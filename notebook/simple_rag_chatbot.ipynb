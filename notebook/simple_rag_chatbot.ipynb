{
 "cells": [
  {
   "cell_type": "markdown",
   "metadata": {},
   "source": [
    "# Building a Chatbot that Doesn't Suck\n",
    "\n",
    "In this notebook we'll build a RAG-based chatbot for a small furniture manufacturer in Oahu, Hawaii"
   ]
  },
  {
   "cell_type": "markdown",
   "metadata": {
    "id": "iShApPi-09Xj"
   },
   "source": [
    "## Set Up Authorization Tokens\n",
    "\n",
    "In this notebook we'll use:\n",
    "\n",
    "- [Jina Embeddings v2]()\n",
    "- [Hugging Face Inference API]()\n",
    "\n",
    "You'll need to get tokens for each of the above and enter them below."
   ]
  },
  {
   "cell_type": "code",
   "execution_count": 34,
   "metadata": {
    "colab": {
     "base_uri": "https://localhost:8080/"
    },
    "id": "X2agYA5_TyX5",
    "outputId": "19443e35-12af-4f27-b14b-346e27a37761"
   },
   "outputs": [
    {
     "name": "stdin",
     "output_type": "stream",
     "text": [
      "Your Jina Embeddings API key:  ········\n",
      "Your Hugging Face Inference API key:  ········\n"
     ]
    }
   ],
   "source": [
    "from getpass import getpass\n",
    "\n",
    "jinaai_api_key = getpass(prompt=\"Your Jina Embeddings API key: \")\n",
    "hf_inference_api_key = getpass(prompt=\"Your Hugging Face Inference API key: \")"
   ]
  },
  {
   "cell_type": "code",
   "execution_count": 35,
   "metadata": {
    "colab": {
     "base_uri": "https://localhost:8080/"
    },
    "id": "oSvL4dpfUJur",
    "outputId": "188f1d5f-7618-4693-9a74-e44103b8ff6a"
   },
   "outputs": [
    {
     "name": "stdout",
     "output_type": "stream",
     "text": [
      "\n",
      "\u001b[1m[\u001b[0m\u001b[34;49mnotice\u001b[0m\u001b[1;39;49m]\u001b[0m\u001b[39;49m A new release of pip is available: \u001b[0m\u001b[31;49m24.0\u001b[0m\u001b[39;49m -> \u001b[0m\u001b[32;49m24.1.2\u001b[0m\n",
      "\u001b[1m[\u001b[0m\u001b[34;49mnotice\u001b[0m\u001b[1;39;49m]\u001b[0m\u001b[39;49m To update, run: \u001b[0m\u001b[32;49mpip install --upgrade pip\u001b[0m\n"
     ]
    }
   ],
   "source": [
    "# RAG dependencies\n",
    "!pip install -q llama-index llama-index-llms-openai llama-index-embeddings-jinaai llama-index-llms-huggingface \"huggingface_hub[inference]\""
   ]
  },
  {
   "cell_type": "markdown",
   "metadata": {
    "id": "rUMsMe3TTTNu"
   },
   "source": [
    "## Process data\n",
    "\n",
    "We used GPT to generate some sample data for a fictitious small furniture maker in Oahu, Hawaii. This consists of four simple HTML pages:\n",
    "\n",
    "- FAQ page\n",
    "- Front page\n",
    "- Contact page\n",
    "- Product listings page"
   ]
  },
  {
   "cell_type": "markdown",
   "metadata": {},
   "source": [
    "### Download Data"
   ]
  },
  {
   "cell_type": "code",
   "execution_count": 36,
   "metadata": {
    "id": "tuHsDJ3nLLwP"
   },
   "outputs": [],
   "source": [
    "from glob import glob\n",
    "import os\n",
    "import subprocess"
   ]
  },
  {
   "cell_type": "code",
   "execution_count": 37,
   "metadata": {
    "id": "SktkIQxcLpi4"
   },
   "outputs": [],
   "source": [
    "# cleanup from last run\n",
    "!rm -rf data\n",
    "!mkdir data"
   ]
  },
  {
   "cell_type": "code",
   "execution_count": 38,
   "metadata": {
    "id": "_MjeH2ViMHpQ"
   },
   "outputs": [],
   "source": [
    "# download html files\n",
    "!wget -q https://github.com/alexcg1/rag-chatbot/raw/main/notebook/data/faq.html --directory-prefix data/\n",
    "!wget -q https://github.com/alexcg1/rag-chatbot/raw/main/notebook/data/front.html --directory-prefix data/\n",
    "!wget -q https://github.com/alexcg1/rag-chatbot/raw/main/notebook/data/contact.html --directory-prefix data/\n",
    "!wget -q https://github.com/alexcg1/rag-chatbot/raw/main/notebook/data/products.html --directory-prefix data/"
   ]
  },
  {
   "cell_type": "code",
   "execution_count": 39,
   "metadata": {
    "id": "FFlCKDQNLSEi"
   },
   "outputs": [],
   "source": [
    "# store html files in list\n",
    "data_dir = \"./data\"\n",
    "html_files = glob(f'{data_dir}/*.html')"
   ]
  },
  {
   "cell_type": "markdown",
   "metadata": {},
   "source": [
    "### Convert to Markdown\n",
    "\n",
    "HTML is a pain to break into chunks and unreliable for LLMs to parse. We'll convert it to [markdown]() to make things easier:"
   ]
  },
  {
   "cell_type": "code",
   "execution_count": 40,
   "metadata": {
    "id": "2X-IgrP6Nz1f"
   },
   "outputs": [
    {
     "name": "stderr",
     "output_type": "stream",
     "text": [
      "Unknown option --atx-headers.\n",
      "Try pandoc --help for more information.\n",
      "Unknown option --atx-headers.\n",
      "Try pandoc --help for more information.\n",
      "Unknown option --atx-headers.\n",
      "Try pandoc --help for more information.\n",
      "Unknown option --atx-headers.\n",
      "Try pandoc --help for more information.\n"
     ]
    }
   ],
   "source": [
    "# convert html files to markdown for easier chunking\n",
    "for filename in html_files:\n",
    "  base_name = os.path.splitext(filename)[0]\n",
    "  md_file = os.path.join(base_name + \".md\")\n",
    "\n",
    "  # Colab uses ancient pandoc, with different argument for markdown header style\n",
    "  try:\n",
    "    # colab pandoc\n",
    "    subprocess.run([\"pandoc\", \"--atx-headers\", filename, \"-o\", md_file], check=True)\n",
    "  except:\n",
    "    # newer pandoc\n",
    "    subprocess.run([\"pandoc\", \"--markdown-headings=atx\", filename, \"-o\", md_file], check=True)\n",
    "\n",
    "md_files = glob(f'{data_dir}/*.md')"
   ]
  },
  {
   "cell_type": "markdown",
   "metadata": {},
   "source": [
    "### Break Pages into Chunks\n",
    "\n",
    "We'll make the data more digestible to our chatbot by breaking it into chunks:"
   ]
  },
  {
   "cell_type": "code",
   "execution_count": 65,
   "metadata": {
    "id": "wkpAyY4rQkaI"
   },
   "outputs": [],
   "source": [
    "# break markdown files into chunks\n",
    "docs = []\n",
    "\n",
    "for md_file in md_files:\n",
    "    with open(md_file, 'r') as f:\n",
    "          \n",
    "        content = f.read()\n",
    "        docs.append(content) # add full page\n",
    "    \n",
    "        content_chunks = content.split(\"\\n#\")\n",
    "        docs.extend(content_chunks) # add individual sections"
   ]
  },
  {
   "cell_type": "code",
   "execution_count": 66,
   "metadata": {},
   "outputs": [
    {
     "data": {
      "text/plain": [
       "75"
      ]
     },
     "execution_count": 66,
     "metadata": {},
     "output_type": "execute_result"
    }
   ],
   "source": [
    "len(docs)"
   ]
  },
  {
   "cell_type": "code",
   "execution_count": 67,
   "metadata": {},
   "outputs": [
    {
     "data": {
      "text/plain": [
       "[\"# FAQ - Nautical Furniture Hawaii\\n\\n## What types of wood do you use for your furniture?\\n\\nWe use sustainable native timbers sourced from Hawaii, such as Koa,\\nMilo, and Kamani. These woods are known for their durability and\\nbeautiful grain patterns.\\n\\n## Do you offer custom designs?\\n\\nYes, we specialize in custom nautical-themed furniture. Whether you have\\nspecific dimensions or design ideas, we can work with you to create a\\npiece that fits your needs.\\n\\n## Where are you located?\\n\\nWe are based in Oahu, Hawaii. Our workshop is located in Honolulu.\\n\\n## Do you ship internationally?\\n\\nCurrently, we primarily serve customers within Hawaii. Shipping options\\noutside of Hawaii may be available upon request.\\n\\n## How do I care for nautical-themed furniture?\\n\\nRegular dusting and occasional polishing with a wood-friendly polish or\\nwax will help maintain the natural beauty of your furniture. Avoid\\nplacing furniture in direct sunlight or excessive humidity.\\n\\n## Can I visit your workshop?\\n\\nYes, we welcome visitors to our workshop by appointment. Please contact\\nus to schedule a visit.\\n\\n## Do you offer warranties on your furniture?\\n\\nYes, we offer a warranty on craftsmanship and materials. Please inquire\\nabout specific warranty details for each piece.\\n\\n## What payment methods do you accept?\\n\\nWe accept major credit cards (Visa, MasterCard, American Express),\\nPayPal, and bank transfers.\\n\\n## How long does it take to receive a custom order?\\n\\nThe time frame varies depending on the complexity of the design and our\\ncurrent workload. Generally, custom orders can take anywhere from 4 to 8\\nweeks.\\n\\n## Do you offer delivery and assembly services?\\n\\nYes, we offer delivery services within Oahu. Assembly services may be\\navailable depending on the furniture piece and location.\\n\\n## Can I order furniture in bulk for a business or project?\\n\\nAbsolutely! We can accommodate bulk orders for businesses, resorts, and\\nother projects. Please contact us directly to discuss your needs.\\n\\n## What makes your furniture sustainable?\\n\\nWe prioritize sustainability by using locally sourced native timbers\\nthat are harvested responsibly. We also minimize waste and recycle\\nmaterials whenever possible.\\n\\n## Are your furniture pieces suitable for outdoor use?\\n\\nWhile our furniture is primarily designed for indoor use, certain pieces\\ncan be customized for outdoor settings. Please inquire about specific\\noutdoor options.\\n\\n## Do you offer repair services?\\n\\nYes, we offer repair services for our furniture. Contact us with details\\nabout the repair needed, and we\\\\'ll provide assistance.\\n\\n## Can I return or exchange furniture?\\n\\nWe accept returns and exchanges within 30 days of purchase, provided the\\nfurniture is in its original condition. Custom orders may be subject to\\ndifferent terms.\\n\\n## Do you collaborate with interior designers?\\n\\nAbsolutely! We collaborate with interior designers to create custom\\nfurniture pieces that complement their designs. Contact us to discuss\\nyour project.\\n\\n## Do you offer gift cards?\\n\\nYes, we offer gift cards that can be used towards any of our furniture\\npieces or custom orders. Gift cards are available in various\\ndenominations.\\n\\n## How can I get in touch with customer service?\\n\\nYou can reach our customer service team by phone at +1-808-123-4567 or\\nby email at info@nauticalfurniturehawaii.com. We\\\\'re available Monday\\nthrough Friday from 9am to 5pm HST.\\n\\n## Are your furniture pieces suitable for commercial use?\\n\\nYes, many of our furniture designs are suitable for commercial settings\\nsuch as hotels, restaurants, and offices. Contact us to discuss bulk\\npricing and customization options.\\n\\n## Do you have a showroom where I can view your furniture?\\n\\nWe do not have a public showroom, but we can arrange viewings of\\nspecific furniture pieces by appointment at our workshop in Honolulu.\\n\\n## What is your cancellation policy for orders?\\n\\nOrders can be cancelled within 24 hours of placement for a full refund.\\nAfter this period, cancellations may be subject to a restocking fee\\ndepending on the status of the order.\\n\\n## Can you create furniture for small spaces?\\n\\nYes, we can create custom furniture solutions tailored to small spaces,\\nmaximizing functionality without compromising on style.\\n\\n## Do you offer financing options for purchases?\\n\\nAt this time, we do not offer in-house financing options. However, we\\naccept major credit cards and PayPal for convenient payment.\\n\\n## Are your furniture designs inspired by traditional Hawaiian motifs?\\n\\nSome of our designs incorporate elements inspired by Hawaiian culture\\nand nautical themes, offering a unique blend of traditional and\\ncontemporary aesthetics.\\n\\n## Can I see examples of previous custom orders?\\n\\nWe can provide photos and testimonials from previous custom orders upon\\nrequest, showcasing our craftsmanship and design capabilities.\\n\\n## Do you offer discounts for bulk orders?\\n\\nYes, we offer discounts for bulk orders depending on the quantity and\\nspecific items ordered. Contact us to discuss your bulk order needs.\\n\\n## How can I check the status of my order?\\n\\nYou can check the status of your order by contacting our customer\\nservice team. We\\\\'ll provide updates on the production and delivery\\ntimeline.\\n\\n## Do you use eco-friendly finishes on your furniture?\\n\\nWe prioritize eco-friendly finishes that are low in VOCs (Volatile\\nOrganic Compounds), promoting healthier indoor air quality.\\n\\n## Can I purchase your furniture through other retailers?\\n\\nCurrently, our furniture is exclusively available through our workshop\\nand our official website. We do not sell through other retailers.\\n\\n## Do you offer maintenance tips for long-term furniture care?\\n\\nYes, we provide maintenance tips to ensure your furniture lasts for\\nyears to come. This includes advice on cleaning, polishing, and\\nprotecting the wood.\\n\\n## Are your furniture pieces handcrafted?\\n\\nYes, each piece of furniture is handcrafted by skilled artisans in our\\nworkshop, ensuring attention to detail and quality craftsmanship.\\n\\n## What sets your nautical-themed furniture apart from others?\\n\\nOur nautical-themed furniture is distinguished by its authentic design\\nelements, quality materials, and commitment to sustainability,\\nreflecting the essence of Hawaii\\\\'s maritime heritage.\\n\\n## Can you create furniture for specific themes or decor styles?\\n\\nAbsolutely! We can tailor furniture designs to match specific themes or\\ndecor styles, providing personalized solutions for residential and\\ncommercial spaces.\\n\\n## Do you offer virtual consultations for custom orders?\\n\\nYes, we offer virtual consultations for customers who are unable to\\nvisit our workshop in person. Contact us to schedule a virtual\\nappointment.\\n\\n## Are there options for personalizing furniture with engravings or logos?\\n\\nYes, we offer options for personalizing furniture with engravings,\\nlogos, or custom designs. This adds a personal touch to your furniture\\npiece.\\n\\n© 2024 Nautical Furniture Hawaii. All rights reserved.\\n\",\n",
       " '# FAQ - Nautical Furniture Hawaii\\n',\n",
       " '# What types of wood do you use for your furniture?\\n\\nWe use sustainable native timbers sourced from Hawaii, such as Koa,\\nMilo, and Kamani. These woods are known for their durability and\\nbeautiful grain patterns.\\n',\n",
       " '# Do you offer custom designs?\\n\\nYes, we specialize in custom nautical-themed furniture. Whether you have\\nspecific dimensions or design ideas, we can work with you to create a\\npiece that fits your needs.\\n',\n",
       " '# Where are you located?\\n\\nWe are based in Oahu, Hawaii. Our workshop is located in Honolulu.\\n',\n",
       " '# Do you ship internationally?\\n\\nCurrently, we primarily serve customers within Hawaii. Shipping options\\noutside of Hawaii may be available upon request.\\n',\n",
       " '# How do I care for nautical-themed furniture?\\n\\nRegular dusting and occasional polishing with a wood-friendly polish or\\nwax will help maintain the natural beauty of your furniture. Avoid\\nplacing furniture in direct sunlight or excessive humidity.\\n',\n",
       " '# Can I visit your workshop?\\n\\nYes, we welcome visitors to our workshop by appointment. Please contact\\nus to schedule a visit.\\n',\n",
       " '# Do you offer warranties on your furniture?\\n\\nYes, we offer a warranty on craftsmanship and materials. Please inquire\\nabout specific warranty details for each piece.\\n',\n",
       " '# What payment methods do you accept?\\n\\nWe accept major credit cards (Visa, MasterCard, American Express),\\nPayPal, and bank transfers.\\n',\n",
       " '# How long does it take to receive a custom order?\\n\\nThe time frame varies depending on the complexity of the design and our\\ncurrent workload. Generally, custom orders can take anywhere from 4 to 8\\nweeks.\\n',\n",
       " '# Do you offer delivery and assembly services?\\n\\nYes, we offer delivery services within Oahu. Assembly services may be\\navailable depending on the furniture piece and location.\\n',\n",
       " '# Can I order furniture in bulk for a business or project?\\n\\nAbsolutely! We can accommodate bulk orders for businesses, resorts, and\\nother projects. Please contact us directly to discuss your needs.\\n',\n",
       " '# What makes your furniture sustainable?\\n\\nWe prioritize sustainability by using locally sourced native timbers\\nthat are harvested responsibly. We also minimize waste and recycle\\nmaterials whenever possible.\\n',\n",
       " '# Are your furniture pieces suitable for outdoor use?\\n\\nWhile our furniture is primarily designed for indoor use, certain pieces\\ncan be customized for outdoor settings. Please inquire about specific\\noutdoor options.\\n',\n",
       " \"# Do you offer repair services?\\n\\nYes, we offer repair services for our furniture. Contact us with details\\nabout the repair needed, and we\\\\'ll provide assistance.\\n\",\n",
       " '# Can I return or exchange furniture?\\n\\nWe accept returns and exchanges within 30 days of purchase, provided the\\nfurniture is in its original condition. Custom orders may be subject to\\ndifferent terms.\\n',\n",
       " '# Do you collaborate with interior designers?\\n\\nAbsolutely! We collaborate with interior designers to create custom\\nfurniture pieces that complement their designs. Contact us to discuss\\nyour project.\\n',\n",
       " '# Do you offer gift cards?\\n\\nYes, we offer gift cards that can be used towards any of our furniture\\npieces or custom orders. Gift cards are available in various\\ndenominations.\\n',\n",
       " \"# How can I get in touch with customer service?\\n\\nYou can reach our customer service team by phone at +1-808-123-4567 or\\nby email at info@nauticalfurniturehawaii.com. We\\\\'re available Monday\\nthrough Friday from 9am to 5pm HST.\\n\",\n",
       " '# Are your furniture pieces suitable for commercial use?\\n\\nYes, many of our furniture designs are suitable for commercial settings\\nsuch as hotels, restaurants, and offices. Contact us to discuss bulk\\npricing and customization options.\\n',\n",
       " '# Do you have a showroom where I can view your furniture?\\n\\nWe do not have a public showroom, but we can arrange viewings of\\nspecific furniture pieces by appointment at our workshop in Honolulu.\\n',\n",
       " '# What is your cancellation policy for orders?\\n\\nOrders can be cancelled within 24 hours of placement for a full refund.\\nAfter this period, cancellations may be subject to a restocking fee\\ndepending on the status of the order.\\n',\n",
       " '# Can you create furniture for small spaces?\\n\\nYes, we can create custom furniture solutions tailored to small spaces,\\nmaximizing functionality without compromising on style.\\n',\n",
       " '# Do you offer financing options for purchases?\\n\\nAt this time, we do not offer in-house financing options. However, we\\naccept major credit cards and PayPal for convenient payment.\\n',\n",
       " '# Are your furniture designs inspired by traditional Hawaiian motifs?\\n\\nSome of our designs incorporate elements inspired by Hawaiian culture\\nand nautical themes, offering a unique blend of traditional and\\ncontemporary aesthetics.\\n',\n",
       " '# Can I see examples of previous custom orders?\\n\\nWe can provide photos and testimonials from previous custom orders upon\\nrequest, showcasing our craftsmanship and design capabilities.\\n',\n",
       " '# Do you offer discounts for bulk orders?\\n\\nYes, we offer discounts for bulk orders depending on the quantity and\\nspecific items ordered. Contact us to discuss your bulk order needs.\\n',\n",
       " \"# How can I check the status of my order?\\n\\nYou can check the status of your order by contacting our customer\\nservice team. We\\\\'ll provide updates on the production and delivery\\ntimeline.\\n\",\n",
       " '# Do you use eco-friendly finishes on your furniture?\\n\\nWe prioritize eco-friendly finishes that are low in VOCs (Volatile\\nOrganic Compounds), promoting healthier indoor air quality.\\n',\n",
       " '# Can I purchase your furniture through other retailers?\\n\\nCurrently, our furniture is exclusively available through our workshop\\nand our official website. We do not sell through other retailers.\\n',\n",
       " '# Do you offer maintenance tips for long-term furniture care?\\n\\nYes, we provide maintenance tips to ensure your furniture lasts for\\nyears to come. This includes advice on cleaning, polishing, and\\nprotecting the wood.\\n',\n",
       " '# Are your furniture pieces handcrafted?\\n\\nYes, each piece of furniture is handcrafted by skilled artisans in our\\nworkshop, ensuring attention to detail and quality craftsmanship.\\n',\n",
       " \"# What sets your nautical-themed furniture apart from others?\\n\\nOur nautical-themed furniture is distinguished by its authentic design\\nelements, quality materials, and commitment to sustainability,\\nreflecting the essence of Hawaii\\\\'s maritime heritage.\\n\",\n",
       " '# Can you create furniture for specific themes or decor styles?\\n\\nAbsolutely! We can tailor furniture designs to match specific themes or\\ndecor styles, providing personalized solutions for residential and\\ncommercial spaces.\\n',\n",
       " '# Do you offer virtual consultations for custom orders?\\n\\nYes, we offer virtual consultations for customers who are unable to\\nvisit our workshop in person. Contact us to schedule a virtual\\nappointment.\\n',\n",
       " '# Are there options for personalizing furniture with engravings or logos?\\n\\nYes, we offer options for personalizing furniture with engravings,\\nlogos, or custom designs. This adds a personal touch to your furniture\\npiece.\\n\\n© 2024 Nautical Furniture Hawaii. All rights reserved.\\n',\n",
       " \"<div>\\n\\n# Welcome to Nautical Furniture Hawaii\\n\\nDiscover Unique Nautical-Themed Furniture Made from Sustainable Native\\nTimbers\\n\\n</div>\\n\\n<div>\\n\\n## About Us\\n\\nNautical Furniture Hawaii is your premier destination for exquisite\\nnautical-themed furniture crafted with passion and commitment. Nestled\\nin the vibrant city of Honolulu, our workshop stands as a testament to\\nHawaiian craftsmanship, blending traditional techniques with\\ncontemporary design.\\n\\nOur journey began with a deep appreciation for Hawaii\\\\'s maritime\\nheritage and a desire to create furniture that embodies its spirit. We\\ncarefully select sustainable native timbers such as Koa, Milo, and\\nKamani, ensuring each piece not only reflects the natural beauty of\\nHawaii but also contributes to environmental sustainability.\\n\\n## Our Mission\\n\\nAt Nautical Furniture Hawaii, our mission extends beyond crafting\\nfurniture. We aim to inspire and enrich lives by offering furniture that\\nenhances living spaces and connects people with the essence of Hawaii\\\\'s\\noceanic culture. Each piece is a testament to our dedication to quality,\\nsustainability, and customer satisfaction.\\n\\n## Our Products\\n\\nExplore our extensive range of nautical-themed furniture designed to\\ncomplement any home or business environment. From elegant dining sets\\nand comfortable sofas to intricate decorative pieces and bespoke\\ncreations, every item is meticulously handcrafted by skilled artisans in\\nour Honolulu workshop.\\n\\nOur collection blends timeless elegance with modern functionality,\\nensuring durability and style that withstands the test of time. Whether\\nyou\\\\'re furnishing a beachfront retreat, a coastal restaurant, or a\\nprivate residence, our furniture is designed to evoke the charm and\\nallure of Hawaii\\\\'s coastal landscapes.\\n\\n## Visit Us\\n\\nWe invite you to immerse yourself in our world of craftsmanship and\\ncreativity. Located in Oahu, Hawaii, our workshop welcomes visitors by\\nappointment. Step inside and witness firsthand the artistry that goes\\ninto each furniture piece. Whether you\\\\'re seeking inspiration or ready\\nto discuss a custom order, our team is dedicated to providing a\\nmemorable experience.\\n\\n## Shop Now\\n\\nReady to bring the spirit of the sea into your home or business? Browse\\nour online store to discover our latest collections and featured\\nproducts. With convenient shipping options and personalized customer\\nservice, we make it easy to find the perfect piece that reflects your\\nunique style and enhances your living space.\\n\\nFor more information about our products, services, or to schedule a\\nvisit, please refer to our [FAQ page](#faq) or contact us directly. Let\\nNautical Furniture Hawaii be your partner in creating memorable spaces\\ninspired by Hawaii\\\\'s coastal charm.\\n\\n</div>\\n\\n© 2024 Nautical Furniture Hawaii. All rights reserved.\\n\",\n",
       " '<div>\\n',\n",
       " ' Welcome to Nautical Furniture Hawaii\\n\\nDiscover Unique Nautical-Themed Furniture Made from Sustainable Native\\nTimbers\\n\\n</div>\\n\\n<div>\\n',\n",
       " \"# About Us\\n\\nNautical Furniture Hawaii is your premier destination for exquisite\\nnautical-themed furniture crafted with passion and commitment. Nestled\\nin the vibrant city of Honolulu, our workshop stands as a testament to\\nHawaiian craftsmanship, blending traditional techniques with\\ncontemporary design.\\n\\nOur journey began with a deep appreciation for Hawaii\\\\'s maritime\\nheritage and a desire to create furniture that embodies its spirit. We\\ncarefully select sustainable native timbers such as Koa, Milo, and\\nKamani, ensuring each piece not only reflects the natural beauty of\\nHawaii but also contributes to environmental sustainability.\\n\",\n",
       " \"# Our Mission\\n\\nAt Nautical Furniture Hawaii, our mission extends beyond crafting\\nfurniture. We aim to inspire and enrich lives by offering furniture that\\nenhances living spaces and connects people with the essence of Hawaii\\\\'s\\noceanic culture. Each piece is a testament to our dedication to quality,\\nsustainability, and customer satisfaction.\\n\",\n",
       " \"# Our Products\\n\\nExplore our extensive range of nautical-themed furniture designed to\\ncomplement any home or business environment. From elegant dining sets\\nand comfortable sofas to intricate decorative pieces and bespoke\\ncreations, every item is meticulously handcrafted by skilled artisans in\\nour Honolulu workshop.\\n\\nOur collection blends timeless elegance with modern functionality,\\nensuring durability and style that withstands the test of time. Whether\\nyou\\\\'re furnishing a beachfront retreat, a coastal restaurant, or a\\nprivate residence, our furniture is designed to evoke the charm and\\nallure of Hawaii\\\\'s coastal landscapes.\\n\",\n",
       " \"# Visit Us\\n\\nWe invite you to immerse yourself in our world of craftsmanship and\\ncreativity. Located in Oahu, Hawaii, our workshop welcomes visitors by\\nappointment. Step inside and witness firsthand the artistry that goes\\ninto each furniture piece. Whether you\\\\'re seeking inspiration or ready\\nto discuss a custom order, our team is dedicated to providing a\\nmemorable experience.\\n\",\n",
       " \"# Shop Now\\n\\nReady to bring the spirit of the sea into your home or business? Browse\\nour online store to discover our latest collections and featured\\nproducts. With convenient shipping options and personalized customer\\nservice, we make it easy to find the perfect piece that reflects your\\nunique style and enhances your living space.\\n\\nFor more information about our products, services, or to schedule a\\nvisit, please refer to our [FAQ page](#faq) or contact us directly. Let\\nNautical Furniture Hawaii be your partner in creating memorable spaces\\ninspired by Hawaii\\\\'s coastal charm.\\n\\n</div>\\n\\n© 2024 Nautical Furniture Hawaii. All rights reserved.\\n\",\n",
       " \"\\\\`\\\\`\\\\`html\\n\\n<div>\\n\\n# Nautical Furniture Hawaii Products\\n\\nExplore our unique collection of nautical-themed furniture crafted from\\nsustainable native timbers.\\n\\n</div>\\n\\n<div>\\n\\n## Product Listings\\n\\n### 1. Nautical Dining Set\\n\\n**Description:** A beautifully crafted dining set inspired by the sea.\\nIncludes a table and four chairs, perfect for family meals and\\ngatherings.\\n\\n**Price Range:** \\\\$1,500 - \\\\$2,500\\n\\n**Material:** Koa wood\\n\\n**Shipping Time:** 4-6 weeks\\n\\n### 2. Coastal Sofa\\n\\n**Description:** Comfortable and stylish, this coastal sofa brings the\\nessence of the beach to your living room. Available in various fabric\\noptions.\\n\\n**Price Range:** \\\\$1,200 - \\\\$2,000\\n\\n**Material:** Milo wood frame, fabric upholstery\\n\\n**Shipping Time:** 3-5 weeks\\n\\n### 3. Seafarer Bed Frame\\n\\n**Description:** A sturdy and elegant bed frame that evokes the charm of\\na seaside retreat. Available in queen and king sizes.\\n\\n**Price Range:** \\\\$1,800 - \\\\$3,000\\n\\n**Material:** Kamani wood\\n\\n**Shipping Time:** 5-7 weeks\\n\\n### 4. Marine Coffee Table\\n\\n**Description:** This coffee table features nautical design elements,\\nperfect for your living room or patio. Sturdy and stylish.\\n\\n**Price Range:** \\\\$700 - \\\\$1,200\\n\\n**Material:** Koa wood\\n\\n**Shipping Time:** 3-4 weeks\\n\\n### 5. Oceanic Bookshelf\\n\\n**Description:** A spacious and decorative bookshelf that brings a touch\\nof the ocean to your home library or office.\\n\\n**Price Range:** \\\\$1,000 - \\\\$1,800\\n\\n**Material:** Milo wood\\n\\n**Shipping Time:** 4-6 weeks\\n\\n### 6. Beachside Armchair\\n\\n**Description:** Relax in style with this comfortable armchair. Perfect\\nfor reading or lounging, available in multiple fabric choices.\\n\\n**Price Range:** \\\\$800 - \\\\$1,500\\n\\n**Material:** Kamani wood frame, fabric upholstery\\n\\n**Shipping Time:** 3-5 weeks\\n\\n### 7. Nautical Console Table\\n\\n**Description:** A sleek and elegant console table perfect for hallways\\nor living rooms. Features nautical design elements and sturdy\\nconstruction.\\n\\n**Price Range:** \\\\$600 - \\\\$1,100\\n\\n**Material:** Koa wood\\n\\n**Shipping Time:** 3-5 weeks\\n\\n### 8. Harbor Side Table\\n\\n**Description:** This versatile side table adds a touch of the harbor to\\nany room. Ideal for use next to a sofa or bed.\\n\\n**Price Range:** \\\\$400 - \\\\$700\\n\\n**Material:** Milo wood\\n\\n**Shipping Time:** 2-4 weeks\\n\\n### 9. Sailor\\\\'s Desk\\n\\n**Description:** A functional and stylish desk designed for a productive\\nworkspace. Features ample storage and a smooth writing surface.\\n\\n**Price Range:** \\\\$1,300 - \\\\$2,000\\n\\n**Material:** Kamani wood\\n\\n**Shipping Time:** 4-6 weeks\\n\\n### 10. Nautical Bar Stools\\n\\n**Description:** These bar stools are perfect for your kitchen island or\\nhome bar, adding a nautical touch with their design and comfort.\\n\\n**Price Range:** \\\\$300 - \\\\$600 each\\n\\n**Material:** Koa wood\\n\\n**Shipping Time:** 3-5 weeks\\n\\n### 11. Coastal Dining Bench\\n\\n**Description:** A sturdy and stylish dining bench that complements any\\ndining table. Perfect for family gatherings and casual dining.\\n\\n**Price Range:** \\\\$500 - \\\\$900\\n\\n**Material:** Milo wood\\n\\n**Shipping Time:** 3-5 weeks\\n\\n### 12. Lighthouse Nightstand\\n\\n**Description:** A charming nightstand inspired by lighthouses,\\nproviding storage and style for your bedroom.\\n\\n**Price Range:** \\\\$400 - \\\\$700\\n\\n**Material:** Kamani wood\\n\\n**Shipping Time:** 2-4 weeks\\n\\n### 13. Seaside Entertainment Center\\n\\n**Description:** An entertainment center that offers ample storage for\\nyour media devices while adding a nautical flair to your living room.\\n\\n**Price Range:** \\\\$1,500 - \\\\$2,500\\n\\n**Material:** Koa wood\\n\\n**Shipping Time:** 5-7 weeks\\n\\n### 14. Reef Accent Chair\\n\\n**Description:** This accent chair combines comfort and style, perfect\\nfor adding a pop of nautical charm to any room.\\n\\n**Price Range:** \\\\$600 - \\\\$1,200\\n\\n**Material:** Milo wood frame, fabric upholstery\\n\\n**Shipping Time:** 3-5 weeks\\n\\n### 15. Mariner\\\\'s Coffee Table\\n\\n**Description:** A coffee table that captures the essence of the sea,\\nfeaturing intricate detailing and sturdy construction.\\n\\n**Price Range:** \\\\$700 - \\\\$1,300\\n\\n**Material:** Kamani wood\\n\\n**Shipping Time:** 3-5 weeks\\n\\n### 16. Portside Bookshelf\\n\\n**Description:** A bookshelf designed to mimic the look of a ship\\\\'s\\nportside, offering ample storage and unique style.\\n\\n**Price Range:** \\\\$1,000 - \\\\$1,800\\n\\n**Material:** Koa wood\\n\\n**Shipping Time:** 4-6 weeks\\n\\n### 17. Seascape Mirror\\n\\n**Description:** A decorative mirror with a frame inspired by ocean\\nwaves, perfect for adding a nautical touch to any room.\\n\\n**Price Range:** \\\\$300 - \\\\$600\\n\\n**Material:** Milo wood\\n\\n**Shipping Time:** 2-4 weeks\\n\\n### 18. Captain\\\\'s Armchair\\n\\n**Description:** An armchair fit for a captain, combining comfort and\\nnautical style, ideal for any living space.\\n\\n**Price Range:** \\\\$800 - \\\\$1,500\\n\\n**Material:** Kamani wood frame, fabric upholstery\\n\\n**Shipping Time:** 3-5 weeks\\n\\n### 19. Ocean Breeze Bedside Table\\n\\n**Description:** A bedside table that brings the ocean breeze to your\\nbedroom with its stylish design and practical storage.\\n\\n**Price Range:**\\n\\n</div>\\n\",\n",
       " '\\\\`\\\\`\\\\`html\\n\\n<div>\\n',\n",
       " ' Nautical Furniture Hawaii Products\\n\\nExplore our unique collection of nautical-themed furniture crafted from\\nsustainable native timbers.\\n\\n</div>\\n\\n<div>\\n',\n",
       " '# Product Listings\\n',\n",
       " '## 1. Nautical Dining Set\\n\\n**Description:** A beautifully crafted dining set inspired by the sea.\\nIncludes a table and four chairs, perfect for family meals and\\ngatherings.\\n\\n**Price Range:** \\\\$1,500 - \\\\$2,500\\n\\n**Material:** Koa wood\\n\\n**Shipping Time:** 4-6 weeks\\n',\n",
       " '## 2. Coastal Sofa\\n\\n**Description:** Comfortable and stylish, this coastal sofa brings the\\nessence of the beach to your living room. Available in various fabric\\noptions.\\n\\n**Price Range:** \\\\$1,200 - \\\\$2,000\\n\\n**Material:** Milo wood frame, fabric upholstery\\n\\n**Shipping Time:** 3-5 weeks\\n',\n",
       " '## 3. Seafarer Bed Frame\\n\\n**Description:** A sturdy and elegant bed frame that evokes the charm of\\na seaside retreat. Available in queen and king sizes.\\n\\n**Price Range:** \\\\$1,800 - \\\\$3,000\\n\\n**Material:** Kamani wood\\n\\n**Shipping Time:** 5-7 weeks\\n',\n",
       " '## 4. Marine Coffee Table\\n\\n**Description:** This coffee table features nautical design elements,\\nperfect for your living room or patio. Sturdy and stylish.\\n\\n**Price Range:** \\\\$700 - \\\\$1,200\\n\\n**Material:** Koa wood\\n\\n**Shipping Time:** 3-4 weeks\\n',\n",
       " '## 5. Oceanic Bookshelf\\n\\n**Description:** A spacious and decorative bookshelf that brings a touch\\nof the ocean to your home library or office.\\n\\n**Price Range:** \\\\$1,000 - \\\\$1,800\\n\\n**Material:** Milo wood\\n\\n**Shipping Time:** 4-6 weeks\\n',\n",
       " '## 6. Beachside Armchair\\n\\n**Description:** Relax in style with this comfortable armchair. Perfect\\nfor reading or lounging, available in multiple fabric choices.\\n\\n**Price Range:** \\\\$800 - \\\\$1,500\\n\\n**Material:** Kamani wood frame, fabric upholstery\\n\\n**Shipping Time:** 3-5 weeks\\n',\n",
       " '## 7. Nautical Console Table\\n\\n**Description:** A sleek and elegant console table perfect for hallways\\nor living rooms. Features nautical design elements and sturdy\\nconstruction.\\n\\n**Price Range:** \\\\$600 - \\\\$1,100\\n\\n**Material:** Koa wood\\n\\n**Shipping Time:** 3-5 weeks\\n',\n",
       " '## 8. Harbor Side Table\\n\\n**Description:** This versatile side table adds a touch of the harbor to\\nany room. Ideal for use next to a sofa or bed.\\n\\n**Price Range:** \\\\$400 - \\\\$700\\n\\n**Material:** Milo wood\\n\\n**Shipping Time:** 2-4 weeks\\n',\n",
       " \"## 9. Sailor\\\\'s Desk\\n\\n**Description:** A functional and stylish desk designed for a productive\\nworkspace. Features ample storage and a smooth writing surface.\\n\\n**Price Range:** \\\\$1,300 - \\\\$2,000\\n\\n**Material:** Kamani wood\\n\\n**Shipping Time:** 4-6 weeks\\n\",\n",
       " '## 10. Nautical Bar Stools\\n\\n**Description:** These bar stools are perfect for your kitchen island or\\nhome bar, adding a nautical touch with their design and comfort.\\n\\n**Price Range:** \\\\$300 - \\\\$600 each\\n\\n**Material:** Koa wood\\n\\n**Shipping Time:** 3-5 weeks\\n',\n",
       " '## 11. Coastal Dining Bench\\n\\n**Description:** A sturdy and stylish dining bench that complements any\\ndining table. Perfect for family gatherings and casual dining.\\n\\n**Price Range:** \\\\$500 - \\\\$900\\n\\n**Material:** Milo wood\\n\\n**Shipping Time:** 3-5 weeks\\n',\n",
       " '## 12. Lighthouse Nightstand\\n\\n**Description:** A charming nightstand inspired by lighthouses,\\nproviding storage and style for your bedroom.\\n\\n**Price Range:** \\\\$400 - \\\\$700\\n\\n**Material:** Kamani wood\\n\\n**Shipping Time:** 2-4 weeks\\n',\n",
       " '## 13. Seaside Entertainment Center\\n\\n**Description:** An entertainment center that offers ample storage for\\nyour media devices while adding a nautical flair to your living room.\\n\\n**Price Range:** \\\\$1,500 - \\\\$2,500\\n\\n**Material:** Koa wood\\n\\n**Shipping Time:** 5-7 weeks\\n',\n",
       " '## 14. Reef Accent Chair\\n\\n**Description:** This accent chair combines comfort and style, perfect\\nfor adding a pop of nautical charm to any room.\\n\\n**Price Range:** \\\\$600 - \\\\$1,200\\n\\n**Material:** Milo wood frame, fabric upholstery\\n\\n**Shipping Time:** 3-5 weeks\\n',\n",
       " \"## 15. Mariner\\\\'s Coffee Table\\n\\n**Description:** A coffee table that captures the essence of the sea,\\nfeaturing intricate detailing and sturdy construction.\\n\\n**Price Range:** \\\\$700 - \\\\$1,300\\n\\n**Material:** Kamani wood\\n\\n**Shipping Time:** 3-5 weeks\\n\",\n",
       " \"## 16. Portside Bookshelf\\n\\n**Description:** A bookshelf designed to mimic the look of a ship\\\\'s\\nportside, offering ample storage and unique style.\\n\\n**Price Range:** \\\\$1,000 - \\\\$1,800\\n\\n**Material:** Koa wood\\n\\n**Shipping Time:** 4-6 weeks\\n\",\n",
       " '## 17. Seascape Mirror\\n\\n**Description:** A decorative mirror with a frame inspired by ocean\\nwaves, perfect for adding a nautical touch to any room.\\n\\n**Price Range:** \\\\$300 - \\\\$600\\n\\n**Material:** Milo wood\\n\\n**Shipping Time:** 2-4 weeks\\n',\n",
       " \"## 18. Captain\\\\'s Armchair\\n\\n**Description:** An armchair fit for a captain, combining comfort and\\nnautical style, ideal for any living space.\\n\\n**Price Range:** \\\\$800 - \\\\$1,500\\n\\n**Material:** Kamani wood frame, fabric upholstery\\n\\n**Shipping Time:** 3-5 weeks\\n\",\n",
       " '## 19. Ocean Breeze Bedside Table\\n\\n**Description:** A bedside table that brings the ocean breeze to your\\nbedroom with its stylish design and practical storage.\\n\\n**Price Range:**\\n\\n</div>\\n',\n",
       " \"<div>\\n\\n# Contact Nautical Furniture Hawaii\\n\\nWe\\\\'d love to hear from you! Please reach out with any questions,\\ncomments, or inquiries.\\n\\n</div>\\n\\n<div>\\n\\n## Contact Information\\n\\nAddress: 123 Ocean Avenue, Honolulu, Oahu, HI 96815\\n\\nPhone: +1-808-123-4567\\n\\nEmail: <info@nauticalfurniturehawaii.com>\\n\\n## Business Hours\\n\\nMonday to Friday: 9am - 5pm HST\\n\\nSaturday: 10am - 4pm HST\\n\\nSunday: Closed\\n\\n## Visit Us\\n\\nWe welcome visitors to our workshop by appointment. Please contact us in\\nadvance to schedule your visit.\\n\\n## Send Us a Message\\n\\nName:\\\\\\n\\\\\\n\\\\\\nEmail:\\\\\\n\\\\\\n\\\\\\nSubject:\\\\\\n\\\\\\n\\\\\\nMessage:\\\\\\n\\n\\\\\\n\\\\\\n\\n</div>\\n\\n© 2024 Nautical Furniture Hawaii. All rights reserved.\\n\",\n",
       " '<div>\\n',\n",
       " \" Contact Nautical Furniture Hawaii\\n\\nWe\\\\'d love to hear from you! Please reach out with any questions,\\ncomments, or inquiries.\\n\\n</div>\\n\\n<div>\\n\",\n",
       " '# Contact Information\\n\\nAddress: 123 Ocean Avenue, Honolulu, Oahu, HI 96815\\n\\nPhone: +1-808-123-4567\\n\\nEmail: <info@nauticalfurniturehawaii.com>\\n',\n",
       " '# Business Hours\\n\\nMonday to Friday: 9am - 5pm HST\\n\\nSaturday: 10am - 4pm HST\\n\\nSunday: Closed\\n',\n",
       " '# Visit Us\\n\\nWe welcome visitors to our workshop by appointment. Please contact us in\\nadvance to schedule your visit.\\n',\n",
       " '# Send Us a Message\\n\\nName:\\\\\\n\\\\\\n\\\\\\nEmail:\\\\\\n\\\\\\n\\\\\\nSubject:\\\\\\n\\\\\\n\\\\\\nMessage:\\\\\\n\\n\\\\\\n\\\\\\n\\n</div>\\n\\n© 2024 Nautical Furniture Hawaii. All rights reserved.\\n']"
      ]
     },
     "execution_count": 67,
     "metadata": {},
     "output_type": "execute_result"
    }
   ],
   "source": [
    "docs"
   ]
  },
  {
   "cell_type": "markdown",
   "metadata": {
    "id": "m_GVRPqVTw5T"
   },
   "source": [
    "## Build RAG system"
   ]
  },
  {
   "cell_type": "markdown",
   "metadata": {
    "id": "bZZ1ZtLtYel3"
   },
   "source": [
    "### Access Jina Embeddings v2 via the LlamaIndex interface.\n",
    "\n",
    "This code creates the LlamaIndex object that manages your connection to the Jina Embeddings v2 API.\n",
    "\n",
    "The resulting object is held in the variable `jina_embedding_model`.\n"
   ]
  },
  {
   "cell_type": "code",
   "execution_count": 42,
   "metadata": {
    "id": "itaj6kwwUvki"
   },
   "outputs": [],
   "source": [
    "from llama_index.embeddings.jinaai import JinaEmbedding\n",
    "\n",
    "jina_embedding_model = JinaEmbedding(\n",
    "    api_key=jinaai_api_key,\n",
    "    model=\"jina-embeddings-v2-base-en\",\n",
    ")"
   ]
  },
  {
   "cell_type": "markdown",
   "metadata": {
    "id": "PJynvz-VYaPw"
   },
   "source": [
    "### Access the Mixtral Model via the HuggingFace Inference API\n",
    "\n",
    "This code creates a holder for accessing the `mistralai/Mixtral-8x7B-Instruct-v0.1` model via the Hugging Face Inference API. The resulting object is held in the variable `mixtral_llm`."
   ]
  },
  {
   "cell_type": "code",
   "execution_count": 43,
   "metadata": {
    "colab": {
     "base_uri": "https://localhost:8080/"
    },
    "id": "YwElcMppVWqj",
    "outputId": "61999353-d80a-4d8f-c179-6e995f888a85"
   },
   "outputs": [
    {
     "name": "stderr",
     "output_type": "stream",
     "text": [
      "/tmp/ipykernel_14734/4156006060.py:3: DeprecationWarning: Call to deprecated class HuggingFaceInferenceAPI. (Deprecated in favor of `HuggingFaceInferenceAPI` from `llama-index-llms-huggingface-api` which should be used instead.)\n",
      "  mixtral_llm = HuggingFaceInferenceAPI(\n"
     ]
    }
   ],
   "source": [
    "from llama_index.llms.huggingface import HuggingFaceInferenceAPI\n",
    "\n",
    "mixtral_llm = HuggingFaceInferenceAPI(\n",
    "    model_name=\"mistralai/Mixtral-8x7B-Instruct-v0.1\", token=hf_inference_api_key\n",
    ")"
   ]
  },
  {
   "cell_type": "markdown",
   "metadata": {
    "id": "CUJfrfJZasMS"
   },
   "source": [
    "### Convert Chunks To Be Suitable for LlamaIndex"
   ]
  },
  {
   "cell_type": "code",
   "execution_count": 44,
   "metadata": {
    "id": "WyH3fEHdauze"
   },
   "outputs": [],
   "source": [
    "from llama_index.core.readers import StringIterableReader\n",
    "from llama_index.core.schema import Document\n",
    "\n",
    "chunks = StringIterableReader().load_data(docs)"
   ]
  },
  {
   "cell_type": "markdown",
   "metadata": {
    "id": "NoCxdn7BYkD_"
   },
   "source": [
    "### Create a Service\n",
    "\n",
    "The code creates a RAG service that has access to Jina Embeddings and Mixtral Instruct and stores it in the variable `service_context`."
   ]
  },
  {
   "cell_type": "code",
   "execution_count": 45,
   "metadata": {
    "colab": {
     "base_uri": "https://localhost:8080/"
    },
    "id": "M5zL2rmyYmes",
    "outputId": "436bbe5e-af7b-4128-fd2b-e8e61637c25c"
   },
   "outputs": [
    {
     "name": "stderr",
     "output_type": "stream",
     "text": [
      "/tmp/ipykernel_14734/3144623853.py:3: DeprecationWarning: Call to deprecated class method from_defaults. (ServiceContext is deprecated, please use `llama_index.settings.Settings` instead.) -- Deprecated since version 0.10.0.\n",
      "  service_context = ServiceContext.from_defaults(\n"
     ]
    }
   ],
   "source": [
    "from llama_index.core import ServiceContext\n",
    "\n",
    "service_context = ServiceContext.from_defaults(\n",
    "    llm=mixtral_llm, embed_model=jina_embedding_model\n",
    ")"
   ]
  },
  {
   "cell_type": "markdown",
   "metadata": {
    "id": "uJYsOxGDYqHV"
   },
   "source": [
    "### Build the Document Index\n",
    "\n",
    "Next, we store the documents in LlamaIndex' `VectorStoreIndex`, generating embeddings with Jina Embeddings v2 model and using them as keys for retrieval.\n",
    "\n",
    "**Note:** this may take several minutes."
   ]
  },
  {
   "cell_type": "code",
   "execution_count": 50,
   "metadata": {
    "id": "NQcAN4lIVaD8",
    "scrolled": true
   },
   "outputs": [
    {
     "ename": "ConnectionError",
     "evalue": "HTTPSConnectionPool(host='api.jina.ai', port=443): Max retries exceeded with url: /v1/embeddings (Caused by NameResolutionError(\"<urllib3.connection.HTTPSConnection object at 0x7b7fec3ae6f0>: Failed to resolve 'api.jina.ai' ([Errno -3] Temporary failure in name resolution)\"))",
     "output_type": "error",
     "traceback": [
      "\u001b[0;31m---------------------------------------------------------------------------\u001b[0m",
      "\u001b[0;31mgaierror\u001b[0m                                  Traceback (most recent call last)",
      "File \u001b[0;32m~/work/repos/jina-alexcg/blog/chatsmith/rag-chatbot/notebook/env/lib/python3.12/site-packages/urllib3/connection.py:196\u001b[0m, in \u001b[0;36mHTTPConnection._new_conn\u001b[0;34m(self)\u001b[0m\n\u001b[1;32m    195\u001b[0m \u001b[38;5;28;01mtry\u001b[39;00m:\n\u001b[0;32m--> 196\u001b[0m     sock \u001b[38;5;241m=\u001b[39m \u001b[43mconnection\u001b[49m\u001b[38;5;241;43m.\u001b[39;49m\u001b[43mcreate_connection\u001b[49m\u001b[43m(\u001b[49m\n\u001b[1;32m    197\u001b[0m \u001b[43m        \u001b[49m\u001b[43m(\u001b[49m\u001b[38;5;28;43mself\u001b[39;49m\u001b[38;5;241;43m.\u001b[39;49m\u001b[43m_dns_host\u001b[49m\u001b[43m,\u001b[49m\u001b[43m \u001b[49m\u001b[38;5;28;43mself\u001b[39;49m\u001b[38;5;241;43m.\u001b[39;49m\u001b[43mport\u001b[49m\u001b[43m)\u001b[49m\u001b[43m,\u001b[49m\n\u001b[1;32m    198\u001b[0m \u001b[43m        \u001b[49m\u001b[38;5;28;43mself\u001b[39;49m\u001b[38;5;241;43m.\u001b[39;49m\u001b[43mtimeout\u001b[49m\u001b[43m,\u001b[49m\n\u001b[1;32m    199\u001b[0m \u001b[43m        \u001b[49m\u001b[43msource_address\u001b[49m\u001b[38;5;241;43m=\u001b[39;49m\u001b[38;5;28;43mself\u001b[39;49m\u001b[38;5;241;43m.\u001b[39;49m\u001b[43msource_address\u001b[49m\u001b[43m,\u001b[49m\n\u001b[1;32m    200\u001b[0m \u001b[43m        \u001b[49m\u001b[43msocket_options\u001b[49m\u001b[38;5;241;43m=\u001b[39;49m\u001b[38;5;28;43mself\u001b[39;49m\u001b[38;5;241;43m.\u001b[39;49m\u001b[43msocket_options\u001b[49m\u001b[43m,\u001b[49m\n\u001b[1;32m    201\u001b[0m \u001b[43m    \u001b[49m\u001b[43m)\u001b[49m\n\u001b[1;32m    202\u001b[0m \u001b[38;5;28;01mexcept\u001b[39;00m socket\u001b[38;5;241m.\u001b[39mgaierror \u001b[38;5;28;01mas\u001b[39;00m e:\n",
      "File \u001b[0;32m~/work/repos/jina-alexcg/blog/chatsmith/rag-chatbot/notebook/env/lib/python3.12/site-packages/urllib3/util/connection.py:60\u001b[0m, in \u001b[0;36mcreate_connection\u001b[0;34m(address, timeout, source_address, socket_options)\u001b[0m\n\u001b[1;32m     58\u001b[0m     \u001b[38;5;28;01mraise\u001b[39;00m LocationParseError(\u001b[38;5;124mf\u001b[39m\u001b[38;5;124m\"\u001b[39m\u001b[38;5;124m'\u001b[39m\u001b[38;5;132;01m{\u001b[39;00mhost\u001b[38;5;132;01m}\u001b[39;00m\u001b[38;5;124m'\u001b[39m\u001b[38;5;124m, label empty or too long\u001b[39m\u001b[38;5;124m\"\u001b[39m) \u001b[38;5;28;01mfrom\u001b[39;00m \u001b[38;5;28;01mNone\u001b[39;00m\n\u001b[0;32m---> 60\u001b[0m \u001b[38;5;28;01mfor\u001b[39;00m res \u001b[38;5;129;01min\u001b[39;00m \u001b[43msocket\u001b[49m\u001b[38;5;241;43m.\u001b[39;49m\u001b[43mgetaddrinfo\u001b[49m\u001b[43m(\u001b[49m\u001b[43mhost\u001b[49m\u001b[43m,\u001b[49m\u001b[43m \u001b[49m\u001b[43mport\u001b[49m\u001b[43m,\u001b[49m\u001b[43m \u001b[49m\u001b[43mfamily\u001b[49m\u001b[43m,\u001b[49m\u001b[43m \u001b[49m\u001b[43msocket\u001b[49m\u001b[38;5;241;43m.\u001b[39;49m\u001b[43mSOCK_STREAM\u001b[49m\u001b[43m)\u001b[49m:\n\u001b[1;32m     61\u001b[0m     af, socktype, proto, canonname, sa \u001b[38;5;241m=\u001b[39m res\n",
      "File \u001b[0;32m/usr/lib/python3.12/socket.py:964\u001b[0m, in \u001b[0;36mgetaddrinfo\u001b[0;34m(host, port, family, type, proto, flags)\u001b[0m\n\u001b[1;32m    963\u001b[0m addrlist \u001b[38;5;241m=\u001b[39m []\n\u001b[0;32m--> 964\u001b[0m \u001b[38;5;28;01mfor\u001b[39;00m res \u001b[38;5;129;01min\u001b[39;00m \u001b[43m_socket\u001b[49m\u001b[38;5;241;43m.\u001b[39;49m\u001b[43mgetaddrinfo\u001b[49m\u001b[43m(\u001b[49m\u001b[43mhost\u001b[49m\u001b[43m,\u001b[49m\u001b[43m \u001b[49m\u001b[43mport\u001b[49m\u001b[43m,\u001b[49m\u001b[43m \u001b[49m\u001b[43mfamily\u001b[49m\u001b[43m,\u001b[49m\u001b[43m \u001b[49m\u001b[38;5;28;43mtype\u001b[39;49m\u001b[43m,\u001b[49m\u001b[43m \u001b[49m\u001b[43mproto\u001b[49m\u001b[43m,\u001b[49m\u001b[43m \u001b[49m\u001b[43mflags\u001b[49m\u001b[43m)\u001b[49m:\n\u001b[1;32m    965\u001b[0m     af, socktype, proto, canonname, sa \u001b[38;5;241m=\u001b[39m res\n",
      "\u001b[0;31mgaierror\u001b[0m: [Errno -3] Temporary failure in name resolution",
      "\nThe above exception was the direct cause of the following exception:\n",
      "\u001b[0;31mNameResolutionError\u001b[0m                       Traceback (most recent call last)",
      "File \u001b[0;32m~/work/repos/jina-alexcg/blog/chatsmith/rag-chatbot/notebook/env/lib/python3.12/site-packages/urllib3/connectionpool.py:789\u001b[0m, in \u001b[0;36mHTTPConnectionPool.urlopen\u001b[0;34m(self, method, url, body, headers, retries, redirect, assert_same_host, timeout, pool_timeout, release_conn, chunked, body_pos, preload_content, decode_content, **response_kw)\u001b[0m\n\u001b[1;32m    788\u001b[0m \u001b[38;5;66;03m# Make the request on the HTTPConnection object\u001b[39;00m\n\u001b[0;32m--> 789\u001b[0m response \u001b[38;5;241m=\u001b[39m \u001b[38;5;28;43mself\u001b[39;49m\u001b[38;5;241;43m.\u001b[39;49m\u001b[43m_make_request\u001b[49m\u001b[43m(\u001b[49m\n\u001b[1;32m    790\u001b[0m \u001b[43m    \u001b[49m\u001b[43mconn\u001b[49m\u001b[43m,\u001b[49m\n\u001b[1;32m    791\u001b[0m \u001b[43m    \u001b[49m\u001b[43mmethod\u001b[49m\u001b[43m,\u001b[49m\n\u001b[1;32m    792\u001b[0m \u001b[43m    \u001b[49m\u001b[43murl\u001b[49m\u001b[43m,\u001b[49m\n\u001b[1;32m    793\u001b[0m \u001b[43m    \u001b[49m\u001b[43mtimeout\u001b[49m\u001b[38;5;241;43m=\u001b[39;49m\u001b[43mtimeout_obj\u001b[49m\u001b[43m,\u001b[49m\n\u001b[1;32m    794\u001b[0m \u001b[43m    \u001b[49m\u001b[43mbody\u001b[49m\u001b[38;5;241;43m=\u001b[39;49m\u001b[43mbody\u001b[49m\u001b[43m,\u001b[49m\n\u001b[1;32m    795\u001b[0m \u001b[43m    \u001b[49m\u001b[43mheaders\u001b[49m\u001b[38;5;241;43m=\u001b[39;49m\u001b[43mheaders\u001b[49m\u001b[43m,\u001b[49m\n\u001b[1;32m    796\u001b[0m \u001b[43m    \u001b[49m\u001b[43mchunked\u001b[49m\u001b[38;5;241;43m=\u001b[39;49m\u001b[43mchunked\u001b[49m\u001b[43m,\u001b[49m\n\u001b[1;32m    797\u001b[0m \u001b[43m    \u001b[49m\u001b[43mretries\u001b[49m\u001b[38;5;241;43m=\u001b[39;49m\u001b[43mretries\u001b[49m\u001b[43m,\u001b[49m\n\u001b[1;32m    798\u001b[0m \u001b[43m    \u001b[49m\u001b[43mresponse_conn\u001b[49m\u001b[38;5;241;43m=\u001b[39;49m\u001b[43mresponse_conn\u001b[49m\u001b[43m,\u001b[49m\n\u001b[1;32m    799\u001b[0m \u001b[43m    \u001b[49m\u001b[43mpreload_content\u001b[49m\u001b[38;5;241;43m=\u001b[39;49m\u001b[43mpreload_content\u001b[49m\u001b[43m,\u001b[49m\n\u001b[1;32m    800\u001b[0m \u001b[43m    \u001b[49m\u001b[43mdecode_content\u001b[49m\u001b[38;5;241;43m=\u001b[39;49m\u001b[43mdecode_content\u001b[49m\u001b[43m,\u001b[49m\n\u001b[1;32m    801\u001b[0m \u001b[43m    \u001b[49m\u001b[38;5;241;43m*\u001b[39;49m\u001b[38;5;241;43m*\u001b[39;49m\u001b[43mresponse_kw\u001b[49m\u001b[43m,\u001b[49m\n\u001b[1;32m    802\u001b[0m \u001b[43m\u001b[49m\u001b[43m)\u001b[49m\n\u001b[1;32m    804\u001b[0m \u001b[38;5;66;03m# Everything went great!\u001b[39;00m\n",
      "File \u001b[0;32m~/work/repos/jina-alexcg/blog/chatsmith/rag-chatbot/notebook/env/lib/python3.12/site-packages/urllib3/connectionpool.py:490\u001b[0m, in \u001b[0;36mHTTPConnectionPool._make_request\u001b[0;34m(self, conn, method, url, body, headers, retries, timeout, chunked, response_conn, preload_content, decode_content, enforce_content_length)\u001b[0m\n\u001b[1;32m    489\u001b[0m         new_e \u001b[38;5;241m=\u001b[39m _wrap_proxy_error(new_e, conn\u001b[38;5;241m.\u001b[39mproxy\u001b[38;5;241m.\u001b[39mscheme)\n\u001b[0;32m--> 490\u001b[0m     \u001b[38;5;28;01mraise\u001b[39;00m new_e\n\u001b[1;32m    492\u001b[0m \u001b[38;5;66;03m# conn.request() calls http.client.*.request, not the method in\u001b[39;00m\n\u001b[1;32m    493\u001b[0m \u001b[38;5;66;03m# urllib3.request. It also calls makefile (recv) on the socket.\u001b[39;00m\n",
      "File \u001b[0;32m~/work/repos/jina-alexcg/blog/chatsmith/rag-chatbot/notebook/env/lib/python3.12/site-packages/urllib3/connectionpool.py:466\u001b[0m, in \u001b[0;36mHTTPConnectionPool._make_request\u001b[0;34m(self, conn, method, url, body, headers, retries, timeout, chunked, response_conn, preload_content, decode_content, enforce_content_length)\u001b[0m\n\u001b[1;32m    465\u001b[0m \u001b[38;5;28;01mtry\u001b[39;00m:\n\u001b[0;32m--> 466\u001b[0m     \u001b[38;5;28;43mself\u001b[39;49m\u001b[38;5;241;43m.\u001b[39;49m\u001b[43m_validate_conn\u001b[49m\u001b[43m(\u001b[49m\u001b[43mconn\u001b[49m\u001b[43m)\u001b[49m\n\u001b[1;32m    467\u001b[0m \u001b[38;5;28;01mexcept\u001b[39;00m (SocketTimeout, BaseSSLError) \u001b[38;5;28;01mas\u001b[39;00m e:\n",
      "File \u001b[0;32m~/work/repos/jina-alexcg/blog/chatsmith/rag-chatbot/notebook/env/lib/python3.12/site-packages/urllib3/connectionpool.py:1095\u001b[0m, in \u001b[0;36mHTTPSConnectionPool._validate_conn\u001b[0;34m(self, conn)\u001b[0m\n\u001b[1;32m   1094\u001b[0m \u001b[38;5;28;01mif\u001b[39;00m conn\u001b[38;5;241m.\u001b[39mis_closed:\n\u001b[0;32m-> 1095\u001b[0m     \u001b[43mconn\u001b[49m\u001b[38;5;241;43m.\u001b[39;49m\u001b[43mconnect\u001b[49m\u001b[43m(\u001b[49m\u001b[43m)\u001b[49m\n\u001b[1;32m   1097\u001b[0m \u001b[38;5;66;03m# TODO revise this, see https://github.com/urllib3/urllib3/issues/2791\u001b[39;00m\n",
      "File \u001b[0;32m~/work/repos/jina-alexcg/blog/chatsmith/rag-chatbot/notebook/env/lib/python3.12/site-packages/urllib3/connection.py:615\u001b[0m, in \u001b[0;36mHTTPSConnection.connect\u001b[0;34m(self)\u001b[0m\n\u001b[1;32m    614\u001b[0m sock: socket\u001b[38;5;241m.\u001b[39msocket \u001b[38;5;241m|\u001b[39m ssl\u001b[38;5;241m.\u001b[39mSSLSocket\n\u001b[0;32m--> 615\u001b[0m \u001b[38;5;28mself\u001b[39m\u001b[38;5;241m.\u001b[39msock \u001b[38;5;241m=\u001b[39m sock \u001b[38;5;241m=\u001b[39m \u001b[38;5;28;43mself\u001b[39;49m\u001b[38;5;241;43m.\u001b[39;49m\u001b[43m_new_conn\u001b[49m\u001b[43m(\u001b[49m\u001b[43m)\u001b[49m\n\u001b[1;32m    616\u001b[0m server_hostname: \u001b[38;5;28mstr\u001b[39m \u001b[38;5;241m=\u001b[39m \u001b[38;5;28mself\u001b[39m\u001b[38;5;241m.\u001b[39mhost\n",
      "File \u001b[0;32m~/work/repos/jina-alexcg/blog/chatsmith/rag-chatbot/notebook/env/lib/python3.12/site-packages/urllib3/connection.py:203\u001b[0m, in \u001b[0;36mHTTPConnection._new_conn\u001b[0;34m(self)\u001b[0m\n\u001b[1;32m    202\u001b[0m \u001b[38;5;28;01mexcept\u001b[39;00m socket\u001b[38;5;241m.\u001b[39mgaierror \u001b[38;5;28;01mas\u001b[39;00m e:\n\u001b[0;32m--> 203\u001b[0m     \u001b[38;5;28;01mraise\u001b[39;00m NameResolutionError(\u001b[38;5;28mself\u001b[39m\u001b[38;5;241m.\u001b[39mhost, \u001b[38;5;28mself\u001b[39m, e) \u001b[38;5;28;01mfrom\u001b[39;00m \u001b[38;5;21;01me\u001b[39;00m\n\u001b[1;32m    204\u001b[0m \u001b[38;5;28;01mexcept\u001b[39;00m SocketTimeout \u001b[38;5;28;01mas\u001b[39;00m e:\n",
      "\u001b[0;31mNameResolutionError\u001b[0m: <urllib3.connection.HTTPSConnection object at 0x7b7fec3ae6f0>: Failed to resolve 'api.jina.ai' ([Errno -3] Temporary failure in name resolution)",
      "\nThe above exception was the direct cause of the following exception:\n",
      "\u001b[0;31mMaxRetryError\u001b[0m                             Traceback (most recent call last)",
      "File \u001b[0;32m~/work/repos/jina-alexcg/blog/chatsmith/rag-chatbot/notebook/env/lib/python3.12/site-packages/requests/adapters.py:667\u001b[0m, in \u001b[0;36mHTTPAdapter.send\u001b[0;34m(self, request, stream, timeout, verify, cert, proxies)\u001b[0m\n\u001b[1;32m    666\u001b[0m \u001b[38;5;28;01mtry\u001b[39;00m:\n\u001b[0;32m--> 667\u001b[0m     resp \u001b[38;5;241m=\u001b[39m \u001b[43mconn\u001b[49m\u001b[38;5;241;43m.\u001b[39;49m\u001b[43murlopen\u001b[49m\u001b[43m(\u001b[49m\n\u001b[1;32m    668\u001b[0m \u001b[43m        \u001b[49m\u001b[43mmethod\u001b[49m\u001b[38;5;241;43m=\u001b[39;49m\u001b[43mrequest\u001b[49m\u001b[38;5;241;43m.\u001b[39;49m\u001b[43mmethod\u001b[49m\u001b[43m,\u001b[49m\n\u001b[1;32m    669\u001b[0m \u001b[43m        \u001b[49m\u001b[43murl\u001b[49m\u001b[38;5;241;43m=\u001b[39;49m\u001b[43murl\u001b[49m\u001b[43m,\u001b[49m\n\u001b[1;32m    670\u001b[0m \u001b[43m        \u001b[49m\u001b[43mbody\u001b[49m\u001b[38;5;241;43m=\u001b[39;49m\u001b[43mrequest\u001b[49m\u001b[38;5;241;43m.\u001b[39;49m\u001b[43mbody\u001b[49m\u001b[43m,\u001b[49m\n\u001b[1;32m    671\u001b[0m \u001b[43m        \u001b[49m\u001b[43mheaders\u001b[49m\u001b[38;5;241;43m=\u001b[39;49m\u001b[43mrequest\u001b[49m\u001b[38;5;241;43m.\u001b[39;49m\u001b[43mheaders\u001b[49m\u001b[43m,\u001b[49m\n\u001b[1;32m    672\u001b[0m \u001b[43m        \u001b[49m\u001b[43mredirect\u001b[49m\u001b[38;5;241;43m=\u001b[39;49m\u001b[38;5;28;43;01mFalse\u001b[39;49;00m\u001b[43m,\u001b[49m\n\u001b[1;32m    673\u001b[0m \u001b[43m        \u001b[49m\u001b[43massert_same_host\u001b[49m\u001b[38;5;241;43m=\u001b[39;49m\u001b[38;5;28;43;01mFalse\u001b[39;49;00m\u001b[43m,\u001b[49m\n\u001b[1;32m    674\u001b[0m \u001b[43m        \u001b[49m\u001b[43mpreload_content\u001b[49m\u001b[38;5;241;43m=\u001b[39;49m\u001b[38;5;28;43;01mFalse\u001b[39;49;00m\u001b[43m,\u001b[49m\n\u001b[1;32m    675\u001b[0m \u001b[43m        \u001b[49m\u001b[43mdecode_content\u001b[49m\u001b[38;5;241;43m=\u001b[39;49m\u001b[38;5;28;43;01mFalse\u001b[39;49;00m\u001b[43m,\u001b[49m\n\u001b[1;32m    676\u001b[0m \u001b[43m        \u001b[49m\u001b[43mretries\u001b[49m\u001b[38;5;241;43m=\u001b[39;49m\u001b[38;5;28;43mself\u001b[39;49m\u001b[38;5;241;43m.\u001b[39;49m\u001b[43mmax_retries\u001b[49m\u001b[43m,\u001b[49m\n\u001b[1;32m    677\u001b[0m \u001b[43m        \u001b[49m\u001b[43mtimeout\u001b[49m\u001b[38;5;241;43m=\u001b[39;49m\u001b[43mtimeout\u001b[49m\u001b[43m,\u001b[49m\n\u001b[1;32m    678\u001b[0m \u001b[43m        \u001b[49m\u001b[43mchunked\u001b[49m\u001b[38;5;241;43m=\u001b[39;49m\u001b[43mchunked\u001b[49m\u001b[43m,\u001b[49m\n\u001b[1;32m    679\u001b[0m \u001b[43m    \u001b[49m\u001b[43m)\u001b[49m\n\u001b[1;32m    681\u001b[0m \u001b[38;5;28;01mexcept\u001b[39;00m (ProtocolError, \u001b[38;5;167;01mOSError\u001b[39;00m) \u001b[38;5;28;01mas\u001b[39;00m err:\n",
      "File \u001b[0;32m~/work/repos/jina-alexcg/blog/chatsmith/rag-chatbot/notebook/env/lib/python3.12/site-packages/urllib3/connectionpool.py:843\u001b[0m, in \u001b[0;36mHTTPConnectionPool.urlopen\u001b[0;34m(self, method, url, body, headers, retries, redirect, assert_same_host, timeout, pool_timeout, release_conn, chunked, body_pos, preload_content, decode_content, **response_kw)\u001b[0m\n\u001b[1;32m    841\u001b[0m     new_e \u001b[38;5;241m=\u001b[39m ProtocolError(\u001b[38;5;124m\"\u001b[39m\u001b[38;5;124mConnection aborted.\u001b[39m\u001b[38;5;124m\"\u001b[39m, new_e)\n\u001b[0;32m--> 843\u001b[0m retries \u001b[38;5;241m=\u001b[39m \u001b[43mretries\u001b[49m\u001b[38;5;241;43m.\u001b[39;49m\u001b[43mincrement\u001b[49m\u001b[43m(\u001b[49m\n\u001b[1;32m    844\u001b[0m \u001b[43m    \u001b[49m\u001b[43mmethod\u001b[49m\u001b[43m,\u001b[49m\u001b[43m \u001b[49m\u001b[43murl\u001b[49m\u001b[43m,\u001b[49m\u001b[43m \u001b[49m\u001b[43merror\u001b[49m\u001b[38;5;241;43m=\u001b[39;49m\u001b[43mnew_e\u001b[49m\u001b[43m,\u001b[49m\u001b[43m \u001b[49m\u001b[43m_pool\u001b[49m\u001b[38;5;241;43m=\u001b[39;49m\u001b[38;5;28;43mself\u001b[39;49m\u001b[43m,\u001b[49m\u001b[43m \u001b[49m\u001b[43m_stacktrace\u001b[49m\u001b[38;5;241;43m=\u001b[39;49m\u001b[43msys\u001b[49m\u001b[38;5;241;43m.\u001b[39;49m\u001b[43mexc_info\u001b[49m\u001b[43m(\u001b[49m\u001b[43m)\u001b[49m\u001b[43m[\u001b[49m\u001b[38;5;241;43m2\u001b[39;49m\u001b[43m]\u001b[49m\n\u001b[1;32m    845\u001b[0m \u001b[43m\u001b[49m\u001b[43m)\u001b[49m\n\u001b[1;32m    846\u001b[0m retries\u001b[38;5;241m.\u001b[39msleep()\n",
      "File \u001b[0;32m~/work/repos/jina-alexcg/blog/chatsmith/rag-chatbot/notebook/env/lib/python3.12/site-packages/urllib3/util/retry.py:519\u001b[0m, in \u001b[0;36mRetry.increment\u001b[0;34m(self, method, url, response, error, _pool, _stacktrace)\u001b[0m\n\u001b[1;32m    518\u001b[0m     reason \u001b[38;5;241m=\u001b[39m error \u001b[38;5;129;01mor\u001b[39;00m ResponseError(cause)\n\u001b[0;32m--> 519\u001b[0m     \u001b[38;5;28;01mraise\u001b[39;00m MaxRetryError(_pool, url, reason) \u001b[38;5;28;01mfrom\u001b[39;00m \u001b[38;5;21;01mreason\u001b[39;00m  \u001b[38;5;66;03m# type: ignore[arg-type]\u001b[39;00m\n\u001b[1;32m    521\u001b[0m log\u001b[38;5;241m.\u001b[39mdebug(\u001b[38;5;124m\"\u001b[39m\u001b[38;5;124mIncremented Retry for (url=\u001b[39m\u001b[38;5;124m'\u001b[39m\u001b[38;5;132;01m%s\u001b[39;00m\u001b[38;5;124m'\u001b[39m\u001b[38;5;124m): \u001b[39m\u001b[38;5;132;01m%r\u001b[39;00m\u001b[38;5;124m\"\u001b[39m, url, new_retry)\n",
      "\u001b[0;31mMaxRetryError\u001b[0m: HTTPSConnectionPool(host='api.jina.ai', port=443): Max retries exceeded with url: /v1/embeddings (Caused by NameResolutionError(\"<urllib3.connection.HTTPSConnection object at 0x7b7fec3ae6f0>: Failed to resolve 'api.jina.ai' ([Errno -3] Temporary failure in name resolution)\"))",
      "\nDuring handling of the above exception, another exception occurred:\n",
      "\u001b[0;31mConnectionError\u001b[0m                           Traceback (most recent call last)",
      "Cell \u001b[0;32mIn[50], line 3\u001b[0m\n\u001b[1;32m      1\u001b[0m \u001b[38;5;28;01mfrom\u001b[39;00m \u001b[38;5;21;01mllama_index\u001b[39;00m\u001b[38;5;21;01m.\u001b[39;00m\u001b[38;5;21;01mcore\u001b[39;00m \u001b[38;5;28;01mimport\u001b[39;00m VectorStoreIndex\n\u001b[0;32m----> 3\u001b[0m index \u001b[38;5;241m=\u001b[39m \u001b[43mVectorStoreIndex\u001b[49m\u001b[38;5;241;43m.\u001b[39;49m\u001b[43mfrom_documents\u001b[49m\u001b[43m(\u001b[49m\n\u001b[1;32m      4\u001b[0m \u001b[43m    \u001b[49m\u001b[43mdocuments\u001b[49m\u001b[38;5;241;43m=\u001b[39;49m\u001b[43mchunks\u001b[49m\u001b[43m,\u001b[49m\u001b[43m \u001b[49m\u001b[43mservice_context\u001b[49m\u001b[38;5;241;43m=\u001b[39;49m\u001b[43mservice_context\u001b[49m\n\u001b[1;32m      5\u001b[0m \u001b[43m)\u001b[49m\n",
      "File \u001b[0;32m~/work/repos/jina-alexcg/blog/chatsmith/rag-chatbot/notebook/env/lib/python3.12/site-packages/llama_index/core/indices/base.py:145\u001b[0m, in \u001b[0;36mBaseIndex.from_documents\u001b[0;34m(cls, documents, storage_context, show_progress, callback_manager, transformations, service_context, **kwargs)\u001b[0m\n\u001b[1;32m    136\u001b[0m     docstore\u001b[38;5;241m.\u001b[39mset_document_hash(doc\u001b[38;5;241m.\u001b[39mget_doc_id(), doc\u001b[38;5;241m.\u001b[39mhash)\n\u001b[1;32m    138\u001b[0m nodes \u001b[38;5;241m=\u001b[39m run_transformations(\n\u001b[1;32m    139\u001b[0m     documents,  \u001b[38;5;66;03m# type: ignore\u001b[39;00m\n\u001b[1;32m    140\u001b[0m     transformations,\n\u001b[1;32m    141\u001b[0m     show_progress\u001b[38;5;241m=\u001b[39mshow_progress,\n\u001b[1;32m    142\u001b[0m     \u001b[38;5;241m*\u001b[39m\u001b[38;5;241m*\u001b[39mkwargs,\n\u001b[1;32m    143\u001b[0m )\n\u001b[0;32m--> 145\u001b[0m \u001b[38;5;28;01mreturn\u001b[39;00m \u001b[38;5;28;43mcls\u001b[39;49m\u001b[43m(\u001b[49m\n\u001b[1;32m    146\u001b[0m \u001b[43m    \u001b[49m\u001b[43mnodes\u001b[49m\u001b[38;5;241;43m=\u001b[39;49m\u001b[43mnodes\u001b[49m\u001b[43m,\u001b[49m\n\u001b[1;32m    147\u001b[0m \u001b[43m    \u001b[49m\u001b[43mstorage_context\u001b[49m\u001b[38;5;241;43m=\u001b[39;49m\u001b[43mstorage_context\u001b[49m\u001b[43m,\u001b[49m\n\u001b[1;32m    148\u001b[0m \u001b[43m    \u001b[49m\u001b[43mcallback_manager\u001b[49m\u001b[38;5;241;43m=\u001b[39;49m\u001b[43mcallback_manager\u001b[49m\u001b[43m,\u001b[49m\n\u001b[1;32m    149\u001b[0m \u001b[43m    \u001b[49m\u001b[43mshow_progress\u001b[49m\u001b[38;5;241;43m=\u001b[39;49m\u001b[43mshow_progress\u001b[49m\u001b[43m,\u001b[49m\n\u001b[1;32m    150\u001b[0m \u001b[43m    \u001b[49m\u001b[43mtransformations\u001b[49m\u001b[38;5;241;43m=\u001b[39;49m\u001b[43mtransformations\u001b[49m\u001b[43m,\u001b[49m\n\u001b[1;32m    151\u001b[0m \u001b[43m    \u001b[49m\u001b[43mservice_context\u001b[49m\u001b[38;5;241;43m=\u001b[39;49m\u001b[43mservice_context\u001b[49m\u001b[43m,\u001b[49m\n\u001b[1;32m    152\u001b[0m \u001b[43m    \u001b[49m\u001b[38;5;241;43m*\u001b[39;49m\u001b[38;5;241;43m*\u001b[39;49m\u001b[43mkwargs\u001b[49m\u001b[43m,\u001b[49m\n\u001b[1;32m    153\u001b[0m \u001b[43m\u001b[49m\u001b[43m)\u001b[49m\n",
      "File \u001b[0;32m~/work/repos/jina-alexcg/blog/chatsmith/rag-chatbot/notebook/env/lib/python3.12/site-packages/llama_index/core/indices/vector_store/base.py:75\u001b[0m, in \u001b[0;36mVectorStoreIndex.__init__\u001b[0;34m(self, nodes, use_async, store_nodes_override, embed_model, insert_batch_size, objects, index_struct, storage_context, callback_manager, transformations, show_progress, service_context, **kwargs)\u001b[0m\n\u001b[1;32m     68\u001b[0m \u001b[38;5;28mself\u001b[39m\u001b[38;5;241m.\u001b[39m_embed_model \u001b[38;5;241m=\u001b[39m (\n\u001b[1;32m     69\u001b[0m     resolve_embed_model(embed_model, callback_manager\u001b[38;5;241m=\u001b[39mcallback_manager)\n\u001b[1;32m     70\u001b[0m     \u001b[38;5;28;01mif\u001b[39;00m embed_model\n\u001b[1;32m     71\u001b[0m     \u001b[38;5;28;01melse\u001b[39;00m embed_model_from_settings_or_context(Settings, service_context)\n\u001b[1;32m     72\u001b[0m )\n\u001b[1;32m     74\u001b[0m \u001b[38;5;28mself\u001b[39m\u001b[38;5;241m.\u001b[39m_insert_batch_size \u001b[38;5;241m=\u001b[39m insert_batch_size\n\u001b[0;32m---> 75\u001b[0m \u001b[38;5;28;43msuper\u001b[39;49m\u001b[43m(\u001b[49m\u001b[43m)\u001b[49m\u001b[38;5;241;43m.\u001b[39;49m\u001b[38;5;21;43m__init__\u001b[39;49m\u001b[43m(\u001b[49m\n\u001b[1;32m     76\u001b[0m \u001b[43m    \u001b[49m\u001b[43mnodes\u001b[49m\u001b[38;5;241;43m=\u001b[39;49m\u001b[43mnodes\u001b[49m\u001b[43m,\u001b[49m\n\u001b[1;32m     77\u001b[0m \u001b[43m    \u001b[49m\u001b[43mindex_struct\u001b[49m\u001b[38;5;241;43m=\u001b[39;49m\u001b[43mindex_struct\u001b[49m\u001b[43m,\u001b[49m\n\u001b[1;32m     78\u001b[0m \u001b[43m    \u001b[49m\u001b[43mservice_context\u001b[49m\u001b[38;5;241;43m=\u001b[39;49m\u001b[43mservice_context\u001b[49m\u001b[43m,\u001b[49m\n\u001b[1;32m     79\u001b[0m \u001b[43m    \u001b[49m\u001b[43mstorage_context\u001b[49m\u001b[38;5;241;43m=\u001b[39;49m\u001b[43mstorage_context\u001b[49m\u001b[43m,\u001b[49m\n\u001b[1;32m     80\u001b[0m \u001b[43m    \u001b[49m\u001b[43mshow_progress\u001b[49m\u001b[38;5;241;43m=\u001b[39;49m\u001b[43mshow_progress\u001b[49m\u001b[43m,\u001b[49m\n\u001b[1;32m     81\u001b[0m \u001b[43m    \u001b[49m\u001b[43mobjects\u001b[49m\u001b[38;5;241;43m=\u001b[39;49m\u001b[43mobjects\u001b[49m\u001b[43m,\u001b[49m\n\u001b[1;32m     82\u001b[0m \u001b[43m    \u001b[49m\u001b[43mcallback_manager\u001b[49m\u001b[38;5;241;43m=\u001b[39;49m\u001b[43mcallback_manager\u001b[49m\u001b[43m,\u001b[49m\n\u001b[1;32m     83\u001b[0m \u001b[43m    \u001b[49m\u001b[43mtransformations\u001b[49m\u001b[38;5;241;43m=\u001b[39;49m\u001b[43mtransformations\u001b[49m\u001b[43m,\u001b[49m\n\u001b[1;32m     84\u001b[0m \u001b[43m    \u001b[49m\u001b[38;5;241;43m*\u001b[39;49m\u001b[38;5;241;43m*\u001b[39;49m\u001b[43mkwargs\u001b[49m\u001b[43m,\u001b[49m\n\u001b[1;32m     85\u001b[0m \u001b[43m\u001b[49m\u001b[43m)\u001b[49m\n",
      "File \u001b[0;32m~/work/repos/jina-alexcg/blog/chatsmith/rag-chatbot/notebook/env/lib/python3.12/site-packages/llama_index/core/indices/base.py:94\u001b[0m, in \u001b[0;36mBaseIndex.__init__\u001b[0;34m(self, nodes, objects, index_struct, storage_context, callback_manager, transformations, show_progress, service_context, **kwargs)\u001b[0m\n\u001b[1;32m     92\u001b[0m \u001b[38;5;28;01mif\u001b[39;00m index_struct \u001b[38;5;129;01mis\u001b[39;00m \u001b[38;5;28;01mNone\u001b[39;00m:\n\u001b[1;32m     93\u001b[0m     nodes \u001b[38;5;241m=\u001b[39m nodes \u001b[38;5;129;01mor\u001b[39;00m []\n\u001b[0;32m---> 94\u001b[0m     index_struct \u001b[38;5;241m=\u001b[39m \u001b[38;5;28;43mself\u001b[39;49m\u001b[38;5;241;43m.\u001b[39;49m\u001b[43mbuild_index_from_nodes\u001b[49m\u001b[43m(\u001b[49m\n\u001b[1;32m     95\u001b[0m \u001b[43m        \u001b[49m\u001b[43mnodes\u001b[49m\u001b[43m \u001b[49m\u001b[38;5;241;43m+\u001b[39;49m\u001b[43m \u001b[49m\u001b[43mobjects\u001b[49m\u001b[43m,\u001b[49m\u001b[43m \u001b[49m\u001b[38;5;241;43m*\u001b[39;49m\u001b[38;5;241;43m*\u001b[39;49m\u001b[43mkwargs\u001b[49m\u001b[43m  \u001b[49m\u001b[38;5;66;43;03m# type: ignore\u001b[39;49;00m\n\u001b[1;32m     96\u001b[0m \u001b[43m    \u001b[49m\u001b[43m)\u001b[49m\n\u001b[1;32m     97\u001b[0m \u001b[38;5;28mself\u001b[39m\u001b[38;5;241m.\u001b[39m_index_struct \u001b[38;5;241m=\u001b[39m index_struct\n\u001b[1;32m     98\u001b[0m \u001b[38;5;28mself\u001b[39m\u001b[38;5;241m.\u001b[39m_storage_context\u001b[38;5;241m.\u001b[39mindex_store\u001b[38;5;241m.\u001b[39madd_index_struct(\u001b[38;5;28mself\u001b[39m\u001b[38;5;241m.\u001b[39m_index_struct)\n",
      "File \u001b[0;32m~/work/repos/jina-alexcg/blog/chatsmith/rag-chatbot/notebook/env/lib/python3.12/site-packages/llama_index/core/indices/vector_store/base.py:308\u001b[0m, in \u001b[0;36mVectorStoreIndex.build_index_from_nodes\u001b[0;34m(self, nodes, **insert_kwargs)\u001b[0m\n\u001b[1;32m    300\u001b[0m \u001b[38;5;28;01mif\u001b[39;00m \u001b[38;5;28many\u001b[39m(\n\u001b[1;32m    301\u001b[0m     node\u001b[38;5;241m.\u001b[39mget_content(metadata_mode\u001b[38;5;241m=\u001b[39mMetadataMode\u001b[38;5;241m.\u001b[39mEMBED) \u001b[38;5;241m==\u001b[39m \u001b[38;5;124m\"\u001b[39m\u001b[38;5;124m\"\u001b[39m \u001b[38;5;28;01mfor\u001b[39;00m node \u001b[38;5;129;01min\u001b[39;00m nodes\n\u001b[1;32m    302\u001b[0m ):\n\u001b[1;32m    303\u001b[0m     \u001b[38;5;28;01mraise\u001b[39;00m \u001b[38;5;167;01mValueError\u001b[39;00m(\n\u001b[1;32m    304\u001b[0m         \u001b[38;5;124m\"\u001b[39m\u001b[38;5;124mCannot build index from nodes with no content. \u001b[39m\u001b[38;5;124m\"\u001b[39m\n\u001b[1;32m    305\u001b[0m         \u001b[38;5;124m\"\u001b[39m\u001b[38;5;124mPlease ensure all nodes have content.\u001b[39m\u001b[38;5;124m\"\u001b[39m\n\u001b[1;32m    306\u001b[0m     )\n\u001b[0;32m--> 308\u001b[0m \u001b[38;5;28;01mreturn\u001b[39;00m \u001b[38;5;28;43mself\u001b[39;49m\u001b[38;5;241;43m.\u001b[39;49m\u001b[43m_build_index_from_nodes\u001b[49m\u001b[43m(\u001b[49m\u001b[43mnodes\u001b[49m\u001b[43m,\u001b[49m\u001b[43m \u001b[49m\u001b[38;5;241;43m*\u001b[39;49m\u001b[38;5;241;43m*\u001b[39;49m\u001b[43minsert_kwargs\u001b[49m\u001b[43m)\u001b[49m\n",
      "File \u001b[0;32m~/work/repos/jina-alexcg/blog/chatsmith/rag-chatbot/notebook/env/lib/python3.12/site-packages/llama_index/core/indices/vector_store/base.py:280\u001b[0m, in \u001b[0;36mVectorStoreIndex._build_index_from_nodes\u001b[0;34m(self, nodes, **insert_kwargs)\u001b[0m\n\u001b[1;32m    278\u001b[0m     run_async_tasks(tasks)\n\u001b[1;32m    279\u001b[0m \u001b[38;5;28;01melse\u001b[39;00m:\n\u001b[0;32m--> 280\u001b[0m     \u001b[38;5;28;43mself\u001b[39;49m\u001b[38;5;241;43m.\u001b[39;49m\u001b[43m_add_nodes_to_index\u001b[49m\u001b[43m(\u001b[49m\n\u001b[1;32m    281\u001b[0m \u001b[43m        \u001b[49m\u001b[43mindex_struct\u001b[49m\u001b[43m,\u001b[49m\n\u001b[1;32m    282\u001b[0m \u001b[43m        \u001b[49m\u001b[43mnodes\u001b[49m\u001b[43m,\u001b[49m\n\u001b[1;32m    283\u001b[0m \u001b[43m        \u001b[49m\u001b[43mshow_progress\u001b[49m\u001b[38;5;241;43m=\u001b[39;49m\u001b[38;5;28;43mself\u001b[39;49m\u001b[38;5;241;43m.\u001b[39;49m\u001b[43m_show_progress\u001b[49m\u001b[43m,\u001b[49m\n\u001b[1;32m    284\u001b[0m \u001b[43m        \u001b[49m\u001b[38;5;241;43m*\u001b[39;49m\u001b[38;5;241;43m*\u001b[39;49m\u001b[43minsert_kwargs\u001b[49m\u001b[43m,\u001b[49m\n\u001b[1;32m    285\u001b[0m \u001b[43m    \u001b[49m\u001b[43m)\u001b[49m\n\u001b[1;32m    286\u001b[0m \u001b[38;5;28;01mreturn\u001b[39;00m index_struct\n",
      "File \u001b[0;32m~/work/repos/jina-alexcg/blog/chatsmith/rag-chatbot/notebook/env/lib/python3.12/site-packages/llama_index/core/indices/vector_store/base.py:233\u001b[0m, in \u001b[0;36mVectorStoreIndex._add_nodes_to_index\u001b[0;34m(self, index_struct, nodes, show_progress, **insert_kwargs)\u001b[0m\n\u001b[1;32m    230\u001b[0m     \u001b[38;5;28;01mreturn\u001b[39;00m\n\u001b[1;32m    232\u001b[0m \u001b[38;5;28;01mfor\u001b[39;00m nodes_batch \u001b[38;5;129;01min\u001b[39;00m iter_batch(nodes, \u001b[38;5;28mself\u001b[39m\u001b[38;5;241m.\u001b[39m_insert_batch_size):\n\u001b[0;32m--> 233\u001b[0m     nodes_batch \u001b[38;5;241m=\u001b[39m \u001b[38;5;28;43mself\u001b[39;49m\u001b[38;5;241;43m.\u001b[39;49m\u001b[43m_get_node_with_embedding\u001b[49m\u001b[43m(\u001b[49m\u001b[43mnodes_batch\u001b[49m\u001b[43m,\u001b[49m\u001b[43m \u001b[49m\u001b[43mshow_progress\u001b[49m\u001b[43m)\u001b[49m\n\u001b[1;32m    234\u001b[0m     new_ids \u001b[38;5;241m=\u001b[39m \u001b[38;5;28mself\u001b[39m\u001b[38;5;241m.\u001b[39m_vector_store\u001b[38;5;241m.\u001b[39madd(nodes_batch, \u001b[38;5;241m*\u001b[39m\u001b[38;5;241m*\u001b[39minsert_kwargs)\n\u001b[1;32m    236\u001b[0m     \u001b[38;5;28;01mif\u001b[39;00m \u001b[38;5;129;01mnot\u001b[39;00m \u001b[38;5;28mself\u001b[39m\u001b[38;5;241m.\u001b[39m_vector_store\u001b[38;5;241m.\u001b[39mstores_text \u001b[38;5;129;01mor\u001b[39;00m \u001b[38;5;28mself\u001b[39m\u001b[38;5;241m.\u001b[39m_store_nodes_override:\n\u001b[1;32m    237\u001b[0m         \u001b[38;5;66;03m# NOTE: if the vector store doesn't store text,\u001b[39;00m\n\u001b[1;32m    238\u001b[0m         \u001b[38;5;66;03m# we need to add the nodes to the index struct and document store\u001b[39;00m\n",
      "File \u001b[0;32m~/work/repos/jina-alexcg/blog/chatsmith/rag-chatbot/notebook/env/lib/python3.12/site-packages/llama_index/core/indices/vector_store/base.py:141\u001b[0m, in \u001b[0;36mVectorStoreIndex._get_node_with_embedding\u001b[0;34m(self, nodes, show_progress)\u001b[0m\n\u001b[1;32m    130\u001b[0m \u001b[38;5;28;01mdef\u001b[39;00m \u001b[38;5;21m_get_node_with_embedding\u001b[39m(\n\u001b[1;32m    131\u001b[0m     \u001b[38;5;28mself\u001b[39m,\n\u001b[1;32m    132\u001b[0m     nodes: Sequence[BaseNode],\n\u001b[1;32m    133\u001b[0m     show_progress: \u001b[38;5;28mbool\u001b[39m \u001b[38;5;241m=\u001b[39m \u001b[38;5;28;01mFalse\u001b[39;00m,\n\u001b[1;32m    134\u001b[0m ) \u001b[38;5;241m-\u001b[39m\u001b[38;5;241m>\u001b[39m List[BaseNode]:\n\u001b[1;32m    135\u001b[0m \u001b[38;5;250m    \u001b[39m\u001b[38;5;124;03m\"\"\"Get tuples of id, node, and embedding.\u001b[39;00m\n\u001b[1;32m    136\u001b[0m \n\u001b[1;32m    137\u001b[0m \u001b[38;5;124;03m    Allows us to store these nodes in a vector store.\u001b[39;00m\n\u001b[1;32m    138\u001b[0m \u001b[38;5;124;03m    Embeddings are called in batches.\u001b[39;00m\n\u001b[1;32m    139\u001b[0m \n\u001b[1;32m    140\u001b[0m \u001b[38;5;124;03m    \"\"\"\u001b[39;00m\n\u001b[0;32m--> 141\u001b[0m     id_to_embed_map \u001b[38;5;241m=\u001b[39m \u001b[43membed_nodes\u001b[49m\u001b[43m(\u001b[49m\n\u001b[1;32m    142\u001b[0m \u001b[43m        \u001b[49m\u001b[43mnodes\u001b[49m\u001b[43m,\u001b[49m\u001b[43m \u001b[49m\u001b[38;5;28;43mself\u001b[39;49m\u001b[38;5;241;43m.\u001b[39;49m\u001b[43m_embed_model\u001b[49m\u001b[43m,\u001b[49m\u001b[43m \u001b[49m\u001b[43mshow_progress\u001b[49m\u001b[38;5;241;43m=\u001b[39;49m\u001b[43mshow_progress\u001b[49m\n\u001b[1;32m    143\u001b[0m \u001b[43m    \u001b[49m\u001b[43m)\u001b[49m\n\u001b[1;32m    145\u001b[0m     results \u001b[38;5;241m=\u001b[39m []\n\u001b[1;32m    146\u001b[0m     \u001b[38;5;28;01mfor\u001b[39;00m node \u001b[38;5;129;01min\u001b[39;00m nodes:\n",
      "File \u001b[0;32m~/work/repos/jina-alexcg/blog/chatsmith/rag-chatbot/notebook/env/lib/python3.12/site-packages/llama_index/core/indices/utils.py:138\u001b[0m, in \u001b[0;36membed_nodes\u001b[0;34m(nodes, embed_model, show_progress)\u001b[0m\n\u001b[1;32m    135\u001b[0m     \u001b[38;5;28;01melse\u001b[39;00m:\n\u001b[1;32m    136\u001b[0m         id_to_embed_map[node\u001b[38;5;241m.\u001b[39mnode_id] \u001b[38;5;241m=\u001b[39m node\u001b[38;5;241m.\u001b[39membedding\n\u001b[0;32m--> 138\u001b[0m new_embeddings \u001b[38;5;241m=\u001b[39m \u001b[43membed_model\u001b[49m\u001b[38;5;241;43m.\u001b[39;49m\u001b[43mget_text_embedding_batch\u001b[49m\u001b[43m(\u001b[49m\n\u001b[1;32m    139\u001b[0m \u001b[43m    \u001b[49m\u001b[43mtexts_to_embed\u001b[49m\u001b[43m,\u001b[49m\u001b[43m \u001b[49m\u001b[43mshow_progress\u001b[49m\u001b[38;5;241;43m=\u001b[39;49m\u001b[43mshow_progress\u001b[49m\n\u001b[1;32m    140\u001b[0m \u001b[43m\u001b[49m\u001b[43m)\u001b[49m\n\u001b[1;32m    142\u001b[0m \u001b[38;5;28;01mfor\u001b[39;00m new_id, text_embedding \u001b[38;5;129;01min\u001b[39;00m \u001b[38;5;28mzip\u001b[39m(ids_to_embed, new_embeddings):\n\u001b[1;32m    143\u001b[0m     id_to_embed_map[new_id] \u001b[38;5;241m=\u001b[39m text_embedding\n",
      "File \u001b[0;32m~/work/repos/jina-alexcg/blog/chatsmith/rag-chatbot/notebook/env/lib/python3.12/site-packages/llama_index/core/instrumentation/dispatcher.py:230\u001b[0m, in \u001b[0;36mDispatcher.span.<locals>.wrapper\u001b[0;34m(func, instance, args, kwargs)\u001b[0m\n\u001b[1;32m    226\u001b[0m \u001b[38;5;28mself\u001b[39m\u001b[38;5;241m.\u001b[39mspan_enter(\n\u001b[1;32m    227\u001b[0m     id_\u001b[38;5;241m=\u001b[39mid_, bound_args\u001b[38;5;241m=\u001b[39mbound_args, instance\u001b[38;5;241m=\u001b[39minstance, parent_id\u001b[38;5;241m=\u001b[39mparent_id\n\u001b[1;32m    228\u001b[0m )\n\u001b[1;32m    229\u001b[0m \u001b[38;5;28;01mtry\u001b[39;00m:\n\u001b[0;32m--> 230\u001b[0m     result \u001b[38;5;241m=\u001b[39m \u001b[43mfunc\u001b[49m\u001b[43m(\u001b[49m\u001b[38;5;241;43m*\u001b[39;49m\u001b[43margs\u001b[49m\u001b[43m,\u001b[49m\u001b[43m \u001b[49m\u001b[38;5;241;43m*\u001b[39;49m\u001b[38;5;241;43m*\u001b[39;49m\u001b[43mkwargs\u001b[49m\u001b[43m)\u001b[49m\n\u001b[1;32m    231\u001b[0m \u001b[38;5;28;01mexcept\u001b[39;00m \u001b[38;5;167;01mBaseException\u001b[39;00m \u001b[38;5;28;01mas\u001b[39;00m e:\n\u001b[1;32m    232\u001b[0m     \u001b[38;5;28mself\u001b[39m\u001b[38;5;241m.\u001b[39mevent(SpanDropEvent(span_id\u001b[38;5;241m=\u001b[39mid_, err_str\u001b[38;5;241m=\u001b[39m\u001b[38;5;28mstr\u001b[39m(e)))\n",
      "File \u001b[0;32m~/work/repos/jina-alexcg/blog/chatsmith/rag-chatbot/notebook/env/lib/python3.12/site-packages/llama_index/core/base/embeddings/base.py:332\u001b[0m, in \u001b[0;36mBaseEmbedding.get_text_embedding_batch\u001b[0;34m(self, texts, show_progress, **kwargs)\u001b[0m\n\u001b[1;32m    323\u001b[0m dispatcher\u001b[38;5;241m.\u001b[39mevent(\n\u001b[1;32m    324\u001b[0m     EmbeddingStartEvent(\n\u001b[1;32m    325\u001b[0m         model_dict\u001b[38;5;241m=\u001b[39mmodel_dict,\n\u001b[1;32m    326\u001b[0m     )\n\u001b[1;32m    327\u001b[0m )\n\u001b[1;32m    328\u001b[0m \u001b[38;5;28;01mwith\u001b[39;00m \u001b[38;5;28mself\u001b[39m\u001b[38;5;241m.\u001b[39mcallback_manager\u001b[38;5;241m.\u001b[39mevent(\n\u001b[1;32m    329\u001b[0m     CBEventType\u001b[38;5;241m.\u001b[39mEMBEDDING,\n\u001b[1;32m    330\u001b[0m     payload\u001b[38;5;241m=\u001b[39m{EventPayload\u001b[38;5;241m.\u001b[39mSERIALIZED: \u001b[38;5;28mself\u001b[39m\u001b[38;5;241m.\u001b[39mto_dict()},\n\u001b[1;32m    331\u001b[0m ) \u001b[38;5;28;01mas\u001b[39;00m event:\n\u001b[0;32m--> 332\u001b[0m     embeddings \u001b[38;5;241m=\u001b[39m \u001b[38;5;28;43mself\u001b[39;49m\u001b[38;5;241;43m.\u001b[39;49m\u001b[43m_get_text_embeddings\u001b[49m\u001b[43m(\u001b[49m\u001b[43mcur_batch\u001b[49m\u001b[43m)\u001b[49m\n\u001b[1;32m    333\u001b[0m     result_embeddings\u001b[38;5;241m.\u001b[39mextend(embeddings)\n\u001b[1;32m    334\u001b[0m     event\u001b[38;5;241m.\u001b[39mon_end(\n\u001b[1;32m    335\u001b[0m         payload\u001b[38;5;241m=\u001b[39m{\n\u001b[1;32m    336\u001b[0m             EventPayload\u001b[38;5;241m.\u001b[39mCHUNKS: cur_batch,\n\u001b[1;32m    337\u001b[0m             EventPayload\u001b[38;5;241m.\u001b[39mEMBEDDINGS: embeddings,\n\u001b[1;32m    338\u001b[0m         },\n\u001b[1;32m    339\u001b[0m     )\n",
      "File \u001b[0;32m~/work/repos/jina-alexcg/blog/chatsmith/rag-chatbot/notebook/env/lib/python3.12/site-packages/llama_index/embeddings/jinaai/base.py:200\u001b[0m, in \u001b[0;36mJinaEmbedding._get_text_embeddings\u001b[0;34m(self, texts)\u001b[0m\n\u001b[1;32m    199\u001b[0m \u001b[38;5;28;01mdef\u001b[39;00m \u001b[38;5;21m_get_text_embeddings\u001b[39m(\u001b[38;5;28mself\u001b[39m, texts: List[\u001b[38;5;28mstr\u001b[39m]) \u001b[38;5;241m-\u001b[39m\u001b[38;5;241m>\u001b[39m List[List[\u001b[38;5;28mfloat\u001b[39m]]:\n\u001b[0;32m--> 200\u001b[0m     \u001b[38;5;28;01mreturn\u001b[39;00m \u001b[38;5;28;43mself\u001b[39;49m\u001b[38;5;241;43m.\u001b[39;49m\u001b[43m_api\u001b[49m\u001b[38;5;241;43m.\u001b[39;49m\u001b[43mget_embeddings\u001b[49m\u001b[43m(\u001b[49m\n\u001b[1;32m    201\u001b[0m \u001b[43m        \u001b[49m\u001b[38;5;28;43minput\u001b[39;49m\u001b[38;5;241;43m=\u001b[39;49m\u001b[43mtexts\u001b[49m\u001b[43m,\u001b[49m\u001b[43m \u001b[49m\u001b[43mencoding_type\u001b[49m\u001b[38;5;241;43m=\u001b[39;49m\u001b[38;5;28;43mself\u001b[39;49m\u001b[38;5;241;43m.\u001b[39;49m\u001b[43m_encoding_documents\u001b[49m\n\u001b[1;32m    202\u001b[0m \u001b[43m    \u001b[49m\u001b[43m)\u001b[49m\n",
      "File \u001b[0;32m~/work/repos/jina-alexcg/blog/chatsmith/rag-chatbot/notebook/env/lib/python3.12/site-packages/llama_index/embeddings/jinaai/base.py:41\u001b[0m, in \u001b[0;36m_JinaAPICaller.get_embeddings\u001b[0;34m(self, input, encoding_type)\u001b[0m\n\u001b[1;32m     39\u001b[0m \u001b[38;5;250m\u001b[39m\u001b[38;5;124;03m\"\"\"Get embeddings.\"\"\"\u001b[39;00m\n\u001b[1;32m     40\u001b[0m \u001b[38;5;66;03m# Call Jina AI Embedding API\u001b[39;00m\n\u001b[0;32m---> 41\u001b[0m resp \u001b[38;5;241m=\u001b[39m \u001b[38;5;28;43mself\u001b[39;49m\u001b[38;5;241;43m.\u001b[39;49m\u001b[43m_session\u001b[49m\u001b[38;5;241;43m.\u001b[39;49m\u001b[43mpost\u001b[49m\u001b[43m(\u001b[49m\u001b[43m  \u001b[49m\u001b[38;5;66;43;03m# type: ignore\u001b[39;49;00m\n\u001b[1;32m     42\u001b[0m \u001b[43m    \u001b[49m\u001b[43mAPI_URL\u001b[49m\u001b[43m,\u001b[49m\n\u001b[1;32m     43\u001b[0m \u001b[43m    \u001b[49m\u001b[43mjson\u001b[49m\u001b[38;5;241;43m=\u001b[39;49m\u001b[43m{\u001b[49m\u001b[38;5;124;43m\"\u001b[39;49m\u001b[38;5;124;43minput\u001b[39;49m\u001b[38;5;124;43m\"\u001b[39;49m\u001b[43m:\u001b[49m\u001b[43m \u001b[49m\u001b[38;5;28;43minput\u001b[39;49m\u001b[43m,\u001b[49m\u001b[43m \u001b[49m\u001b[38;5;124;43m\"\u001b[39;49m\u001b[38;5;124;43mmodel\u001b[39;49m\u001b[38;5;124;43m\"\u001b[39;49m\u001b[43m:\u001b[49m\u001b[43m \u001b[49m\u001b[38;5;28;43mself\u001b[39;49m\u001b[38;5;241;43m.\u001b[39;49m\u001b[43mmodel\u001b[49m\u001b[43m,\u001b[49m\u001b[43m \u001b[49m\u001b[38;5;124;43m\"\u001b[39;49m\u001b[38;5;124;43mencoding_type\u001b[39;49m\u001b[38;5;124;43m\"\u001b[39;49m\u001b[43m:\u001b[49m\u001b[43m \u001b[49m\u001b[43mencoding_type\u001b[49m\u001b[43m}\u001b[49m\u001b[43m,\u001b[49m\n\u001b[1;32m     44\u001b[0m \u001b[43m\u001b[49m\u001b[43m)\u001b[49m\u001b[38;5;241m.\u001b[39mjson()\n\u001b[1;32m     45\u001b[0m \u001b[38;5;28;01mif\u001b[39;00m \u001b[38;5;124m\"\u001b[39m\u001b[38;5;124mdata\u001b[39m\u001b[38;5;124m\"\u001b[39m \u001b[38;5;129;01mnot\u001b[39;00m \u001b[38;5;129;01min\u001b[39;00m resp:\n\u001b[1;32m     46\u001b[0m     \u001b[38;5;28;01mraise\u001b[39;00m \u001b[38;5;167;01mRuntimeError\u001b[39;00m(resp[\u001b[38;5;124m\"\u001b[39m\u001b[38;5;124mdetail\u001b[39m\u001b[38;5;124m\"\u001b[39m])\n",
      "File \u001b[0;32m~/work/repos/jina-alexcg/blog/chatsmith/rag-chatbot/notebook/env/lib/python3.12/site-packages/requests/sessions.py:637\u001b[0m, in \u001b[0;36mSession.post\u001b[0;34m(self, url, data, json, **kwargs)\u001b[0m\n\u001b[1;32m    626\u001b[0m \u001b[38;5;28;01mdef\u001b[39;00m \u001b[38;5;21mpost\u001b[39m(\u001b[38;5;28mself\u001b[39m, url, data\u001b[38;5;241m=\u001b[39m\u001b[38;5;28;01mNone\u001b[39;00m, json\u001b[38;5;241m=\u001b[39m\u001b[38;5;28;01mNone\u001b[39;00m, \u001b[38;5;241m*\u001b[39m\u001b[38;5;241m*\u001b[39mkwargs):\n\u001b[1;32m    627\u001b[0m \u001b[38;5;250m    \u001b[39m\u001b[38;5;124mr\u001b[39m\u001b[38;5;124;03m\"\"\"Sends a POST request. Returns :class:`Response` object.\u001b[39;00m\n\u001b[1;32m    628\u001b[0m \n\u001b[1;32m    629\u001b[0m \u001b[38;5;124;03m    :param url: URL for the new :class:`Request` object.\u001b[39;00m\n\u001b[0;32m   (...)\u001b[0m\n\u001b[1;32m    634\u001b[0m \u001b[38;5;124;03m    :rtype: requests.Response\u001b[39;00m\n\u001b[1;32m    635\u001b[0m \u001b[38;5;124;03m    \"\"\"\u001b[39;00m\n\u001b[0;32m--> 637\u001b[0m     \u001b[38;5;28;01mreturn\u001b[39;00m \u001b[38;5;28;43mself\u001b[39;49m\u001b[38;5;241;43m.\u001b[39;49m\u001b[43mrequest\u001b[49m\u001b[43m(\u001b[49m\u001b[38;5;124;43m\"\u001b[39;49m\u001b[38;5;124;43mPOST\u001b[39;49m\u001b[38;5;124;43m\"\u001b[39;49m\u001b[43m,\u001b[49m\u001b[43m \u001b[49m\u001b[43murl\u001b[49m\u001b[43m,\u001b[49m\u001b[43m \u001b[49m\u001b[43mdata\u001b[49m\u001b[38;5;241;43m=\u001b[39;49m\u001b[43mdata\u001b[49m\u001b[43m,\u001b[49m\u001b[43m \u001b[49m\u001b[43mjson\u001b[49m\u001b[38;5;241;43m=\u001b[39;49m\u001b[43mjson\u001b[49m\u001b[43m,\u001b[49m\u001b[43m \u001b[49m\u001b[38;5;241;43m*\u001b[39;49m\u001b[38;5;241;43m*\u001b[39;49m\u001b[43mkwargs\u001b[49m\u001b[43m)\u001b[49m\n",
      "File \u001b[0;32m~/work/repos/jina-alexcg/blog/chatsmith/rag-chatbot/notebook/env/lib/python3.12/site-packages/requests/sessions.py:589\u001b[0m, in \u001b[0;36mSession.request\u001b[0;34m(self, method, url, params, data, headers, cookies, files, auth, timeout, allow_redirects, proxies, hooks, stream, verify, cert, json)\u001b[0m\n\u001b[1;32m    584\u001b[0m send_kwargs \u001b[38;5;241m=\u001b[39m {\n\u001b[1;32m    585\u001b[0m     \u001b[38;5;124m\"\u001b[39m\u001b[38;5;124mtimeout\u001b[39m\u001b[38;5;124m\"\u001b[39m: timeout,\n\u001b[1;32m    586\u001b[0m     \u001b[38;5;124m\"\u001b[39m\u001b[38;5;124mallow_redirects\u001b[39m\u001b[38;5;124m\"\u001b[39m: allow_redirects,\n\u001b[1;32m    587\u001b[0m }\n\u001b[1;32m    588\u001b[0m send_kwargs\u001b[38;5;241m.\u001b[39mupdate(settings)\n\u001b[0;32m--> 589\u001b[0m resp \u001b[38;5;241m=\u001b[39m \u001b[38;5;28;43mself\u001b[39;49m\u001b[38;5;241;43m.\u001b[39;49m\u001b[43msend\u001b[49m\u001b[43m(\u001b[49m\u001b[43mprep\u001b[49m\u001b[43m,\u001b[49m\u001b[43m \u001b[49m\u001b[38;5;241;43m*\u001b[39;49m\u001b[38;5;241;43m*\u001b[39;49m\u001b[43msend_kwargs\u001b[49m\u001b[43m)\u001b[49m\n\u001b[1;32m    591\u001b[0m \u001b[38;5;28;01mreturn\u001b[39;00m resp\n",
      "File \u001b[0;32m~/work/repos/jina-alexcg/blog/chatsmith/rag-chatbot/notebook/env/lib/python3.12/site-packages/requests/sessions.py:703\u001b[0m, in \u001b[0;36mSession.send\u001b[0;34m(self, request, **kwargs)\u001b[0m\n\u001b[1;32m    700\u001b[0m start \u001b[38;5;241m=\u001b[39m preferred_clock()\n\u001b[1;32m    702\u001b[0m \u001b[38;5;66;03m# Send the request\u001b[39;00m\n\u001b[0;32m--> 703\u001b[0m r \u001b[38;5;241m=\u001b[39m \u001b[43madapter\u001b[49m\u001b[38;5;241;43m.\u001b[39;49m\u001b[43msend\u001b[49m\u001b[43m(\u001b[49m\u001b[43mrequest\u001b[49m\u001b[43m,\u001b[49m\u001b[43m \u001b[49m\u001b[38;5;241;43m*\u001b[39;49m\u001b[38;5;241;43m*\u001b[39;49m\u001b[43mkwargs\u001b[49m\u001b[43m)\u001b[49m\n\u001b[1;32m    705\u001b[0m \u001b[38;5;66;03m# Total elapsed time of the request (approximately)\u001b[39;00m\n\u001b[1;32m    706\u001b[0m elapsed \u001b[38;5;241m=\u001b[39m preferred_clock() \u001b[38;5;241m-\u001b[39m start\n",
      "File \u001b[0;32m~/work/repos/jina-alexcg/blog/chatsmith/rag-chatbot/notebook/env/lib/python3.12/site-packages/requests/adapters.py:700\u001b[0m, in \u001b[0;36mHTTPAdapter.send\u001b[0;34m(self, request, stream, timeout, verify, cert, proxies)\u001b[0m\n\u001b[1;32m    696\u001b[0m     \u001b[38;5;28;01mif\u001b[39;00m \u001b[38;5;28misinstance\u001b[39m(e\u001b[38;5;241m.\u001b[39mreason, _SSLError):\n\u001b[1;32m    697\u001b[0m         \u001b[38;5;66;03m# This branch is for urllib3 v1.22 and later.\u001b[39;00m\n\u001b[1;32m    698\u001b[0m         \u001b[38;5;28;01mraise\u001b[39;00m SSLError(e, request\u001b[38;5;241m=\u001b[39mrequest)\n\u001b[0;32m--> 700\u001b[0m     \u001b[38;5;28;01mraise\u001b[39;00m \u001b[38;5;167;01mConnectionError\u001b[39;00m(e, request\u001b[38;5;241m=\u001b[39mrequest)\n\u001b[1;32m    702\u001b[0m \u001b[38;5;28;01mexcept\u001b[39;00m ClosedPoolError \u001b[38;5;28;01mas\u001b[39;00m e:\n\u001b[1;32m    703\u001b[0m     \u001b[38;5;28;01mraise\u001b[39;00m \u001b[38;5;167;01mConnectionError\u001b[39;00m(e, request\u001b[38;5;241m=\u001b[39mrequest)\n",
      "\u001b[0;31mConnectionError\u001b[0m: HTTPSConnectionPool(host='api.jina.ai', port=443): Max retries exceeded with url: /v1/embeddings (Caused by NameResolutionError(\"<urllib3.connection.HTTPSConnection object at 0x7b7fec3ae6f0>: Failed to resolve 'api.jina.ai' ([Errno -3] Temporary failure in name resolution)\"))"
     ]
    }
   ],
   "source": [
    "from llama_index.core import VectorStoreIndex\n",
    "\n",
    "index = VectorStoreIndex.from_documents(\n",
    "    documents=chunks, service_context=service_context\n",
    ")"
   ]
  },
  {
   "cell_type": "markdown",
   "metadata": {
    "id": "Att4O7CuYxOl"
   },
   "source": [
    "### Prepare a Prompt Template\n",
    "\n",
    "This is the prompt template that will be presented to Mixtral Instruct, with `{context_str}` and `{query_str}` replaced with the retrieved documents and your query respectively."
   ]
  },
  {
   "cell_type": "code",
   "execution_count": null,
   "metadata": {
    "id": "RYXfmEriYxiB"
   },
   "outputs": [],
   "source": [
    "from llama_index.core import PromptTemplate\n",
    "\n",
    "qa_prompt_tmpl = (\n",
    "    \"Context information is below.\\n\"\n",
    "    \"---------------------\\n\"\n",
    "    \"{context_str}\\n\"\n",
    "    \"---------------------\\n\"\n",
    "    \"Given the context information and not prior knowledge, \"\n",
    "    \"answer the query. Please be brief, concise, and complete.\\n\"\n",
    "    \"If the context information does not contain an answer to the query, \"\n",
    "    \"respond with \\\"I'm sorry, but we don't have any information about that. Please contact us on info@oahufurniture.com for more information.\\\".\"\n",
    "    \"Query: {query_str}\\n\"\n",
    "    \"Answer: \"\n",
    ")\n",
    "qa_prompt = PromptTemplate(qa_prompt_tmpl)"
   ]
  },
  {
   "cell_type": "markdown",
   "metadata": {
    "id": "1Ip0RS-LZDfY"
   },
   "source": [
    "### Assemble the Full Query Engine\n",
    "\n",
    "The query engine has three parts:\n",
    "\n",
    "* `retriever` is the search engine that takes user requests and retrieves relevant documents from the vector store.\n",
    "* `response_synthesizer` uses the prompt created above to join the retrieved documents and user request and passes them to the LLM, getting back its response.\n",
    "* `query_engine` is a container object that holds the two together."
   ]
  },
  {
   "cell_type": "code",
   "execution_count": null,
   "metadata": {
    "id": "t-5SMeo8YznS"
   },
   "outputs": [],
   "source": [
    "from llama_index.core.retrievers import VectorIndexRetriever\n",
    "from llama_index.core.query_engine import RetrieverQueryEngine\n",
    "from llama_index.core import get_response_synthesizer\n",
    "\n",
    "# configure retriever\n",
    "retriever = VectorIndexRetriever(\n",
    "    index=index,\n",
    "    similarity_top_k=2,\n",
    ")\n",
    "\n",
    "# configure response synthesizer\n",
    "response_synthesizer = get_response_synthesizer(\n",
    "    service_context=service_context,\n",
    "    text_qa_template=qa_prompt,\n",
    "    response_mode=\"compact\",\n",
    ")\n",
    "\n",
    "# assemble query engine\n",
    "query_engine = RetrieverQueryEngine(\n",
    "    retriever=retriever,\n",
    "    response_synthesizer=response_synthesizer,\n",
    ")"
   ]
  },
  {
   "cell_type": "markdown",
   "metadata": {
    "id": "hbBmF1vObopZ"
   },
   "source": [
    "## Ask Some Questions\n",
    "\n",
    "Let's ask some queries to see our chatbot in action:"
   ]
  },
  {
   "cell_type": "code",
   "execution_count": null,
   "metadata": {},
   "outputs": [],
   "source": [
    "from IPython.display import HTML\n",
    "\n",
    "def get_answer(question):\n",
    "    result = query_engine.query(question)\n",
    "    return HTML(result.response.strip())"
   ]
  },
  {
   "cell_type": "code",
   "execution_count": null,
   "metadata": {},
   "outputs": [],
   "source": [
    "get_answer(\"How is a computer useful on a farm?\")"
   ]
  },
  {
   "cell_type": "code",
   "execution_count": null,
   "metadata": {
    "colab": {
     "base_uri": "https://localhost:8080/"
    },
    "id": "s3E9lsW5bq3b",
    "outputId": "32e86ceb-16fd-448d-be04-bfae4e256679"
   },
   "outputs": [],
   "source": [
    "get_answer(\"What kind of furniture do you make?\")"
   ]
  },
  {
   "cell_type": "code",
   "execution_count": null,
   "metadata": {
    "colab": {
     "base_uri": "https://localhost:8080/"
    },
    "id": "aO-W7AYjcf0V",
    "outputId": "1b18cda7-95a6-432f-8028-58e9d096d915"
   },
   "outputs": [],
   "source": [
    "get_answer(\"How much does your furniture cost?\")"
   ]
  },
  {
   "cell_type": "code",
   "execution_count": null,
   "metadata": {
    "colab": {
     "base_uri": "https://localhost:8080/"
    },
    "id": "oXYodN8aco-5",
    "outputId": "bb9fdcd2-b15d-4d16-c60d-4d55af79f9b9"
   },
   "outputs": [],
   "source": [
    "get_answer(\"Can I see your furniture in person?\")"
   ]
  },
  {
   "cell_type": "code",
   "execution_count": null,
   "metadata": {
    "colab": {
     "base_uri": "https://localhost:8080/"
    },
    "id": "MZ11omuWdAhF",
    "outputId": "5438b069-5da0-4a21-ef42-add80386b607"
   },
   "outputs": [],
   "source": [
    "get_answer(\"What payment methods do you accept?\")"
   ]
  },
  {
   "cell_type": "code",
   "execution_count": null,
   "metadata": {
    "id": "wHdY2_MrdMV1"
   },
   "outputs": [],
   "source": [
    "get_answer(\"What is your furniture made from?\")"
   ]
  },
  {
   "cell_type": "markdown",
   "metadata": {},
   "source": [
    "### Testing in different languages"
   ]
  },
  {
   "cell_type": "code",
   "execution_count": null,
   "metadata": {
    "id": "Quw9FaH7dUSS"
   },
   "outputs": [],
   "source": [
    "get_answer(\"你的家具是用什么材料制成的？\")"
   ]
  },
  {
   "cell_type": "code",
   "execution_count": null,
   "metadata": {
    "id": "WyN7ue3nddSr"
   },
   "outputs": [],
   "source": [
    "get_answer(\"Welche Zahlungsmethoden werden akzeptiert?\")"
   ]
  },
  {
   "cell_type": "markdown",
   "metadata": {},
   "source": [
    "### Ask Your Own Questions\n",
    "\n",
    "Enter your question below and then hit enter to send. The question should be generated within a few seconds. Type \"stop\" to quit the question loop."
   ]
  },
  {
   "cell_type": "code",
   "execution_count": null,
   "metadata": {},
   "outputs": [],
   "source": [
    "while True:\n",
    "    question = input(\"Please enter your question: \")\n",
    "    if question.lower() == \"stop\":\n",
    "        break\n",
    "    answer = get_answer(question)\n",
    "    print(answer)"
   ]
  },
  {
   "cell_type": "markdown",
   "metadata": {
    "id": "NVnt2ya0mwk6"
   },
   "source": [
    "## Set up API for external access\n",
    "\n",
    "If you're running this locally in a Jupyter notebook (i.e. **_not_ Google Colab**) you can test the chatbot via a RESTful API and simple web interface:"
   ]
  },
  {
   "cell_type": "code",
   "execution_count": null,
   "metadata": {},
   "outputs": [],
   "source": [
    "port = 5000"
   ]
  },
  {
   "cell_type": "code",
   "execution_count": null,
   "metadata": {
    "id": "z4dK1B56lOG1"
   },
   "outputs": [],
   "source": [
    "!pip install -q fastapi uvicorn requests"
   ]
  },
  {
   "cell_type": "code",
   "execution_count": null,
   "metadata": {},
   "outputs": [
    {
     "name": "stdout",
     "output_type": "stream",
     "text": [
      "INFO:     127.0.0.1:35970 - \"POST /shutdown HTTP/1.1\" 200 OK\n"
     ]
    },
    {
     "name": "stderr",
     "output_type": "stream",
     "text": [
      "Exception in thread Thread-6 (stop_uvicorn):\n",
      "Traceback (most recent call last):\n",
      "  File \"/usr/lib/python3.12/threading.py\", line 1073, in _bootstrap_inner\n",
      "    self.run()\n",
      "  File \"/home/alexcg/work/repos/jina-alexcg/blog/chatsmith/rag-chatbot/notebook/env/lib/python3.12/site-packages/ipykernel/ipkernel.py\", line 766, in run_closure\n",
      "    _threading_Thread_run(self)\n",
      "  File \"/usr/lib/python3.12/threading.py\", line 1010, in run\n",
      "    self._target(*self._args, **self._kwargs)\n",
      "  File \"/tmp/ipykernel_14734/2761188623.py\", line 48, in stop_uvicorn\n",
      "NameError: name 'uvicorn_server' is not defined\n"
     ]
    },
    {
     "name": "stdout",
     "output_type": "stream",
     "text": [
      "INFO:     127.0.0.1:37164 - \"POST /shutdown HTTP/1.1\" 200 OK\n"
     ]
    },
    {
     "name": "stderr",
     "output_type": "stream",
     "text": [
      "Exception in thread Thread-7 (stop_uvicorn):\n",
      "Traceback (most recent call last):\n",
      "  File \"/usr/lib/python3.12/threading.py\", line 1073, in _bootstrap_inner\n",
      "    self.run()\n",
      "  File \"/home/alexcg/work/repos/jina-alexcg/blog/chatsmith/rag-chatbot/notebook/env/lib/python3.12/site-packages/ipykernel/ipkernel.py\", line 766, in run_closure\n",
      "    _threading_Thread_run(self)\n",
      "  File \"/usr/lib/python3.12/threading.py\", line 1010, in run\n",
      "    self._target(*self._args, **self._kwargs)\n",
      "  File \"/tmp/ipykernel_14734/2761188623.py\", line 48, in stop_uvicorn\n",
      "NameError: name 'uvicorn_server' is not defined\n"
     ]
    }
   ],
   "source": [
    "import os\n",
    "import threading\n",
    "import uvicorn\n",
    "from fastapi import FastAPI, Request\n",
    "from fastapi.middleware.cors import CORSMiddleware\n",
    "\n",
    "app = FastAPI()\n",
    "\n",
    "# Enable CORS\n",
    "origins = [\"*\"] # all origins\n",
    "\n",
    "app.add_middleware(\n",
    "    CORSMiddleware,\n",
    "    allow_origins=origins,  # Allows all origins\n",
    "    allow_credentials=True,\n",
    "    allow_methods=[\"*\"],  # Allows all methods\n",
    "    allow_headers=[\"*\"],  # Allows all headers\n",
    ")\n",
    "\n",
    "# Define FastAPI routes\n",
    "\n",
    "@app.post('/')\n",
    "async def chat_endpoint(request: Request):\n",
    "    data = await request.json()  # Get JSON data from the request\n",
    "    response_data = {\n",
    "        \"question\": data[\"question\"],\n",
    "        \"answer\": get_answer(data[\"question\"])\n",
    "    }\n",
    "    \n",
    "    return response_data\n",
    "\n",
    "@app.post('/shutdown')\n",
    "async def shutdown():\n",
    "    global server_running\n",
    "    server_running = False\n",
    "    def stop_uvicorn():\n",
    "        uvicorn_server.should_exit = True\n",
    "    threading.Thread(target=stop_uvicorn).start()\n",
    "    return {\"message\": \"Server shutting down...\"}\n",
    "\n",
    "# Start the FastAPI server in a new thread\n",
    "def run():\n",
    "    uvicorn.run(app, host=\"0.0.0.0\", port=port)\n",
    "\n",
    "threading.Thread(target=run).start()"
   ]
  },
  {
   "cell_type": "markdown",
   "metadata": {},
   "source": [
    "### Test in browser\n",
    "\n",
    "We can open a simple HTML chatbot page for you to test out the chatbot"
   ]
  },
  {
   "cell_type": "code",
   "execution_count": null,
   "metadata": {},
   "outputs": [],
   "source": [
    "!git clone https://github.com/alexcg1/rag-chatbot"
   ]
  },
  {
   "cell_type": "code",
   "execution_count": null,
   "metadata": {},
   "outputs": [],
   "source": [
    "os.chdir(\"./rag-chatbot/web\")"
   ]
  },
  {
   "cell_type": "code",
   "execution_count": 29,
   "metadata": {},
   "outputs": [
    {
     "ename": "KeyboardInterrupt",
     "evalue": "",
     "output_type": "error",
     "traceback": [
      "\u001b[0;31m---------------------------------------------------------------------------\u001b[0m",
      "\u001b[0;31mKeyboardInterrupt\u001b[0m                         Traceback (most recent call last)",
      "Cell \u001b[0;32mIn[29], line 11\u001b[0m\n\u001b[1;32m      9\u001b[0m \u001b[38;5;28;01mwith\u001b[39;00m socketserver\u001b[38;5;241m.\u001b[39mTCPServer((\u001b[38;5;124m\"\u001b[39m\u001b[38;5;124m\"\u001b[39m, web_port), handler) \u001b[38;5;28;01mas\u001b[39;00m httpd:\n\u001b[1;32m     10\u001b[0m     \u001b[38;5;28mprint\u001b[39m(\u001b[38;5;124m\"\u001b[39m\u001b[38;5;124mServing at port\u001b[39m\u001b[38;5;124m\"\u001b[39m, web_port)\n\u001b[0;32m---> 11\u001b[0m     \u001b[43mhttpd\u001b[49m\u001b[38;5;241;43m.\u001b[39;49m\u001b[43mserve_forever\u001b[49m\u001b[43m(\u001b[49m\u001b[43m)\u001b[49m\n",
      "File \u001b[0;32m/usr/lib/python3.12/socketserver.py:235\u001b[0m, in \u001b[0;36mBaseServer.serve_forever\u001b[0;34m(self, poll_interval)\u001b[0m\n\u001b[1;32m    232\u001b[0m selector\u001b[38;5;241m.\u001b[39mregister(\u001b[38;5;28mself\u001b[39m, selectors\u001b[38;5;241m.\u001b[39mEVENT_READ)\n\u001b[1;32m    234\u001b[0m \u001b[38;5;28;01mwhile\u001b[39;00m \u001b[38;5;129;01mnot\u001b[39;00m \u001b[38;5;28mself\u001b[39m\u001b[38;5;241m.\u001b[39m__shutdown_request:\n\u001b[0;32m--> 235\u001b[0m     ready \u001b[38;5;241m=\u001b[39m \u001b[43mselector\u001b[49m\u001b[38;5;241;43m.\u001b[39;49m\u001b[43mselect\u001b[49m\u001b[43m(\u001b[49m\u001b[43mpoll_interval\u001b[49m\u001b[43m)\u001b[49m\n\u001b[1;32m    236\u001b[0m     \u001b[38;5;66;03m# bpo-35017: shutdown() called during select(), exit immediately.\u001b[39;00m\n\u001b[1;32m    237\u001b[0m     \u001b[38;5;28;01mif\u001b[39;00m \u001b[38;5;28mself\u001b[39m\u001b[38;5;241m.\u001b[39m__shutdown_request:\n",
      "File \u001b[0;32m/usr/lib/python3.12/selectors.py:415\u001b[0m, in \u001b[0;36m_PollLikeSelector.select\u001b[0;34m(self, timeout)\u001b[0m\n\u001b[1;32m    413\u001b[0m ready \u001b[38;5;241m=\u001b[39m []\n\u001b[1;32m    414\u001b[0m \u001b[38;5;28;01mtry\u001b[39;00m:\n\u001b[0;32m--> 415\u001b[0m     fd_event_list \u001b[38;5;241m=\u001b[39m \u001b[38;5;28;43mself\u001b[39;49m\u001b[38;5;241;43m.\u001b[39;49m\u001b[43m_selector\u001b[49m\u001b[38;5;241;43m.\u001b[39;49m\u001b[43mpoll\u001b[49m\u001b[43m(\u001b[49m\u001b[43mtimeout\u001b[49m\u001b[43m)\u001b[49m\n\u001b[1;32m    416\u001b[0m \u001b[38;5;28;01mexcept\u001b[39;00m \u001b[38;5;167;01mInterruptedError\u001b[39;00m:\n\u001b[1;32m    417\u001b[0m     \u001b[38;5;28;01mreturn\u001b[39;00m ready\n",
      "\u001b[0;31mKeyboardInterrupt\u001b[0m: "
     ]
    }
   ],
   "source": [
    "import http.server\n",
    "import socketserver\n",
    "import os\n",
    "\n",
    "web_port = 8000\n",
    "\n",
    "handler = http.server.SimpleHTTPRequestHandler\n",
    "\n",
    "with socketserver.TCPServer((\"\", web_port), handler) as httpd:\n",
    "    print(\"Serving at port\", web_port)\n",
    "    httpd.serve_forever()"
   ]
  },
  {
   "cell_type": "markdown",
   "metadata": {},
   "source": [
    "Now you can open your web browser to [http://localhost:8000](http://localhost:8000) to play with the chatbot in your browser.\n",
    "\n",
    "To stop the web server, go to _Kernel_ -> _Interrupt Kernel_."
   ]
  },
  {
   "cell_type": "markdown",
   "metadata": {},
   "source": [
    "### Stop FastAPI Server"
   ]
  },
  {
   "cell_type": "code",
   "execution_count": 32,
   "metadata": {},
   "outputs": [],
   "source": [
    "import requests\n",
    "\n",
    "def stop_server():\n",
    "    response = requests.post(f\"http://localhost:{port}/shutdown\")\n",
    "    print(response.content)"
   ]
  },
  {
   "cell_type": "code",
   "execution_count": 33,
   "metadata": {},
   "outputs": [
    {
     "name": "stdout",
     "output_type": "stream",
     "text": [
      "b'{\"message\":\"Server shutting down...\"}'\n"
     ]
    }
   ],
   "source": [
    "stop_server()"
   ]
  },
  {
   "cell_type": "code",
   "execution_count": null,
   "metadata": {},
   "outputs": [],
   "source": []
  }
 ],
 "metadata": {
  "colab": {
   "provenance": []
  },
  "kernelspec": {
   "display_name": "Python 3 (ipykernel)",
   "language": "python",
   "name": "python3"
  },
  "language_info": {
   "codemirror_mode": {
    "name": "ipython",
    "version": 3
   },
   "file_extension": ".py",
   "mimetype": "text/x-python",
   "name": "python",
   "nbconvert_exporter": "python",
   "pygments_lexer": "ipython3",
   "version": "3.12.4"
  }
 },
 "nbformat": 4,
 "nbformat_minor": 4
}
